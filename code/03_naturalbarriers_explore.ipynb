{
 "cells": [
  {
   "cell_type": "markdown",
   "metadata": {},
   "source": [
    "# Polygonization by rivers & railways - manual exploration (tags)\n",
    "\n",
    "In this notebook, for a given city, we\n",
    "* load the raw OSM data on rivers/railways for this polygon\n",
    "* visualize to explore\n",
    "* verify that we can drop Points and Polygons\n",
    "* annotate all tag values to keep in `barriertags.yml`\n"
   ]
  },
  {
   "cell_type": "code",
   "execution_count": null,
   "metadata": {},
   "outputs": [],
   "source": [
    "# import warnings\n",
    "# warnings.filterwarnings(\"ignore\")\n",
    "import os\n",
    "# import sys\n",
    "# import argparse\n",
    "# import random\n",
    "# from time import time\n",
    "# import numpy as np\n",
    "import pandas as pd\n",
    "# import pickle\n",
    "import matplotlib.pyplot as plt\n",
    "import geopandas as gpd\n",
    "# from shapely.geometry import LineString, Point, MultiPoint, MultiLineString, Polygon\n",
    "# from tqdm import tqdm\n",
    "# from geopy.distance import distance, geodesic, great_circle\n",
    "import osmnx as ox\n",
    "# import networkx as nx\n",
    "# import scipy.stats\n",
    "# from scipy.stats import ks_2samp\n",
    "# import sklearn\n",
    "# import igraph\n",
    "# from igraph import Graph\n",
    "\n",
    "# from random import choice\n",
    "# from bisect import bisect_left\n",
    "# import copy\n",
    "\n",
    "# from functools import partial\n",
    "# import pyproj\n",
    "# from pyproj import Geod\n",
    "# from pyproj.crs import ProjectedCRS\n",
    "# from pyproj.crs.coordinate_operation import AzimuthalEquidistantConversion\n",
    "# from shapely.ops import transform\n",
    "\n",
    "import yaml\n",
    "# from utils import *\n",
    "import shapely\n",
    "# ox.__version__\n",
    "import momepy\n",
    "import folium"
   ]
  },
  {
   "cell_type": "code",
   "execution_count": null,
   "metadata": {},
   "outputs": [],
   "source": [
    "# read in and format CBSA table to loop through\n",
    "cbsacode_file = '../data/cbsacode.csv'\n",
    "df_cbsacodes = pd.read_csv(cbsacode_file)\n",
    "df_cbsacodes = df_cbsacodes[[\"cbsacode\", \"name\", \"full_name\", \"geometry\", \"west\", \"south\", \"east\", \"north\"]]\n",
    "# convert text to shapely Polygon\n",
    "df_cbsacodes[\"geometry\"] = df_cbsacodes.geometry.apply(lambda x: shapely.from_wkt(x))\n",
    "# convert to geodataframe\n",
    "gdf_cbsacodes = gpd.GeoDataFrame(df_cbsacodes, crs = \"EPSG:4326\")\n",
    "gdf_cbsacodes"
   ]
  },
  {
   "cell_type": "markdown",
   "metadata": {},
   "source": [
    "# Choose city and barrier type to explore"
   ]
  },
  {
   "cell_type": "code",
   "execution_count": null,
   "metadata": {},
   "outputs": [],
   "source": [
    "city_name = \"Milwaukee\"\n",
    "barrier_type = \"waterway\""
   ]
  },
  {
   "cell_type": "markdown",
   "metadata": {},
   "source": [
    "**load data**"
   ]
  },
  {
   "cell_type": "code",
   "execution_count": null,
   "metadata": {},
   "outputs": [],
   "source": [
    "cbsacode = gdf_cbsacodes[gdf_cbsacodes[\"name\"]==city_name].cbsacode.values[0]\n",
    "folder_osm = \"../data/natural_barriers/raw/\"\n",
    "barrier_path = folder_osm + f'{cbsacode}_{barrier_type}.gpkg'\n",
    "gdf = gpd.read_file(barrier_path)\n",
    "assert all([t in [\"Point\", \"LineString\", \"Polygon\"] for t in gdf.geom_type.unique()]), \"Unexpected geom type, double check\""
   ]
  },
  {
   "cell_type": "markdown",
   "metadata": {},
   "source": [
    "**Can we drop Points and Polygons?** (if yes - no need to do anything further)"
   ]
  },
  {
   "cell_type": "code",
   "execution_count": null,
   "metadata": {},
   "outputs": [],
   "source": [
    "m = gdf[gdf.geom_type==\"LineString\"].explore(tiles = \"CartoDB.Positron\", name = \"LineString\")\n",
    "gdf[gdf.geom_type==\"Point\"].explore(m=m, tiles = \"CartoDB.Positron\", name = \"Point\", color = \"red\")\n",
    "gdf[gdf.geom_type==\"Polygon\"].explore(m=m, tiles = \"CartoDB.Positron\", name = \"Polygon\", color = \"green\")\n",
    "folium.LayerControl().add_to(m)\n",
    "m"
   ]
  },
  {
   "cell_type": "markdown",
   "metadata": {},
   "source": [
    "**Which tags should we keep?**"
   ]
  },
  {
   "cell_type": "code",
   "execution_count": null,
   "metadata": {},
   "outputs": [],
   "source": [
    "gdf = gdf[gdf.geom_type==\"LineString\"]\n",
    "gdf[barrier_type].unique()"
   ]
  },
  {
   "cell_type": "code",
   "execution_count": null,
   "metadata": {},
   "outputs": [],
   "source": [
    "# m = gdf[(gdf.geom_type==\"LineString\")&gdf[barrier_type].isin([\"rail\", \"abandoned\"])].explore(tiles = \"CartoDB.Positron\", column = barrier_type, cmap = \"Set2\", opacity=.9, style_kwds={\"weight\":5})\n",
    "# m = gdf[gdf.waterway.isin([\"river\", \"dam\"])].explore(tiles = \"CartoDB.Positron\", column = barrier_type, cmap = \"Set2\", opacity=.9, style_kwds={\"weight\":5})\n",
    "# m = gdf[gdf[barrier_type].isin([\"rail\", \"abandoned\", \"disused\"])].explore(tiles = \"CartoDB.Positron\", column = barrier_type, cmap = \"Set2\", opacity=.9, style_kwds={\"weight\":5})\n",
    "m = gdf.explore(tiles = \"CartoDB.Positron\", column = barrier_type, cmap = \"Set2\", opacity=.9, style_kwds={\"weight\":5})\n",
    "folium.LayerControl().add_to(m)\n",
    "m"
   ]
  },
  {
   "cell_type": "markdown",
   "metadata": {},
   "source": [
    "*******\n",
    "*******\n",
    "\n",
    "# Manual verification:\n",
    "\n",
    "*this is currently only done for 1 city - Austin. would need to manually check all others, too*\n",
    "\n",
    "* Can we drop Points?\n",
    "* Can we drop Polygons?\n",
    "* For LineStrings, which tag values for `waterway` and `railway` should we be keeping?\n",
    "\n",
    "*******\n",
    "*******\n"
   ]
  },
  {
   "cell_type": "markdown",
   "metadata": {},
   "source": [
    "Geometry type point: for now, manual step: verify if we can drop them"
   ]
  },
  {
   "cell_type": "code",
   "execution_count": null,
   "metadata": {},
   "outputs": [],
   "source": [
    "# fig, ax = plt.subplots(1,1,figsize = (10,10))\n",
    "# gpd.GeoSeries([city_boundaries], crs=gdf_cbsacodes.crs).plot(ax=ax, alpha = .1, color = \"grey\")\n",
    "# railways[railways.geom_type ==\"Polygon\"].plot(ax=ax, color = \"red\")\n",
    "# waterways[waterways.geom_type ==\"Polygon\"].plot(ax=ax, color = \"blue\")\n",
    "# ax.set_axis_off()"
   ]
  },
  {
   "cell_type": "markdown",
   "metadata": {},
   "source": [
    "Geometry type polygon: For now, manual step: check if we can ignore the Polygon geometries"
   ]
  },
  {
   "cell_type": "code",
   "execution_count": null,
   "metadata": {},
   "outputs": [],
   "source": [
    "# fig, ax = plt.subplots(1,1,figsize = (10,10))\n",
    "# gpd.GeoSeries([city_boundaries], crs=gdf_cbsacodes.crs).plot(ax=ax, alpha = .1, color = \"grey\")\n",
    "# railways[railways.geom_type ==\"Polygon\"].plot(ax=ax, color = \"red\")\n",
    "# waterways[waterways.geom_type ==\"Polygon\"].plot(ax=ax, color = \"blue\")\n",
    "# ax.set_axis_off()"
   ]
  },
  {
   "cell_type": "markdown",
   "metadata": {},
   "source": [
    "For linestrings, identify relevant tag values:"
   ]
  },
  {
   "cell_type": "code",
   "execution_count": null,
   "metadata": {},
   "outputs": [],
   "source": [
    "# m = gpd.GeoSeries([city_boundaries],crs=waterways.crs).explore(\n",
    "#     opacity =.1, name = \"city\", tiles=\"CartoDB.Positron\")\n",
    "# waterways[[\"waterway\",\"geometry\"]].explore(\n",
    "#     m=m,column = \"waterway\",name=\"waterway\"\n",
    "#     )\n",
    "# folium.LayerControl().add_to(m)\n",
    "# m"
   ]
  },
  {
   "cell_type": "markdown",
   "metadata": {},
   "source": [
    "executive decision: for this case, only keeping the linestrings with the tag \"river\""
   ]
  },
  {
   "cell_type": "code",
   "execution_count": null,
   "metadata": {},
   "outputs": [],
   "source": [
    "# m = gpd.GeoSeries([city_boundaries],crs=railways.crs).explore(\n",
    "#     opacity =.1, name = \"city\", tiles=\"CartoDB.Positron\")\n",
    "# railways[[\"railway\",\"geometry\"]].explore(\n",
    "#     m=m,column = \"railway\",name=\"railway\"\n",
    "#     )\n",
    "# folium.LayerControl().add_to(m)\n",
    "# m"
   ]
  },
  {
   "cell_type": "markdown",
   "metadata": {},
   "source": [
    "executive decision: keeping only railway=rail"
   ]
  },
  {
   "cell_type": "markdown",
   "metadata": {},
   "source": [
    "***\n",
    "***\n",
    "\n",
    "# Inserting results from manual verification:"
   ]
  },
  {
   "cell_type": "code",
   "execution_count": null,
   "metadata": {},
   "outputs": [],
   "source": [
    "# once manual verification is done, insert info here:\n",
    "process_dict = {}\n",
    "process_dict[city_name] = {}\n",
    "process_dict[city_name][\"railway\"] = { # currently only done for Austin\n",
    "    \"drop_points\": True, # hopefully so!\n",
    "    \"drop_polygons\": True, # hopefully so!\n",
    "    \"keep_tags\": [\"rail\"], # list of strings (tag values to keep)\n",
    "}\n",
    "process_dict[city_name][\"waterway\"] = { # currently only done for Austin\n",
    "    \"drop_points\": True, # hopefully so!\n",
    "    \"drop_polygons\": True, # hopefully so!\n",
    "    \"keep_tags\": [\"river\"], # list of strings (tag values to keep)\n",
    "}\n"
   ]
  },
  {
   "cell_type": "markdown",
   "metadata": {},
   "source": [
    "***\n",
    "***"
   ]
  },
  {
   "cell_type": "code",
   "execution_count": null,
   "metadata": {},
   "outputs": [],
   "source": [
    "# further data preprocessing according to manual verification\n",
    "\n",
    "natbar = []\n",
    "\n",
    "for barrier_type in [\"railway\", \"waterway\"]:\n",
    "\n",
    "    gdf = data_dict[city_name][barrier_type]\n",
    "\n",
    "    if process_dict[city_name][barrier_type][\"drop_points\"]:\n",
    "        gdf = gdf[gdf.geom_type != \"Point\"]\n",
    "\n",
    "    if process_dict[city_name][barrier_type][\"drop_polygons\"]:\n",
    "        gdf = gdf[gdf.geom_type != \"Polygon\"]\n",
    "    \n",
    "    gdf_tokeep = gdf[gdf[barrier_type].isin(\n",
    "            process_dict[city_name][barrier_type][\"keep_tags\"]\n",
    "        )\n",
    "    ].copy().reset_index(drop=True)\n",
    "\n",
    "    gdf_tokeep[\"barrier_type\"] = gdf_tokeep[barrier_type]\n",
    "    del gdf_tokeep[barrier_type]\n",
    "\n",
    "    natbar.append(gdf_tokeep)\n",
    "\n",
    "natbar.append(\n",
    "            gpd.GeoDataFrame(\n",
    "                {\n",
    "                    \"geometry\": [city_boundaries.boundary],\n",
    "                    \"barrier_type\": \"city_border\"\n",
    "                },\n",
    "            crs = target_city.crs\n",
    "        )\n",
    ")\n",
    "\n",
    "natbar = pd.concat(natbar)"
   ]
  },
  {
   "cell_type": "code",
   "execution_count": null,
   "metadata": {},
   "outputs": [],
   "source": [
    "fig, ax = plt.subplots(1,1)\n",
    "natbar.plot(\n",
    "    ax=ax,\n",
    "    column=\"barrier_type\",\n",
    "    legend=True\n",
    ")\n",
    "ax.set_axis_off()"
   ]
  },
  {
   "cell_type": "markdown",
   "metadata": {},
   "source": [
    "polygonize the lines"
   ]
  },
  {
   "cell_type": "code",
   "execution_count": null,
   "metadata": {},
   "outputs": [],
   "source": [
    "fa = momepy.FaceArtifacts(natbar)\n",
    "polygons = fa.polygons[[\"geometry\"]]"
   ]
  },
  {
   "cell_type": "markdown",
   "metadata": {},
   "source": [
    "drop artifacts (small polygons)"
   ]
  },
  {
   "cell_type": "code",
   "execution_count": null,
   "metadata": {},
   "outputs": [],
   "source": [
    "# keep only polygons with a large enough area - for this we need to project!\n",
    "polygons = polygons.set_crs(natbar.crs)\n",
    "polygons = polygons.to_crs(proj_crs)\n",
    "polygons = polygons[polygons.area > area_threshold].copy().reset_index(drop=True)"
   ]
  },
  {
   "cell_type": "markdown",
   "metadata": {},
   "source": [
    "save to file"
   ]
  },
  {
   "cell_type": "code",
   "execution_count": null,
   "metadata": {},
   "outputs": [],
   "source": [
    "polygons.to_file(folder_poly + f\"{cbsacode}.gpkg\", index = False)"
   ]
  },
  {
   "cell_type": "markdown",
   "metadata": {},
   "source": [
    "count twitter users in each polygon (from RANDOM data!)"
   ]
  },
  {
   "cell_type": "code",
   "execution_count": null,
   "metadata": {},
   "outputs": [],
   "source": [
    "# read in nodes (RANDOMLY generated ones!)\n",
    "nodes_gpkg = '../data/twitter_dummy/twitter_users_tract_random.gpkg'\n",
    "nodes = gpd.read_file(nodes_gpkg)\n",
    "nodes = nodes[nodes.cbsacode==cbsacode]\n",
    "\n",
    "# count nodes in each polygon\n",
    "nodes = nodes.to_crs(polygons.crs)\n",
    "polygons[\"user_count\"] = polygons.geometry.apply(lambda x: len(nodes.sindex.query(x, predicate=\"contains\")))"
   ]
  },
  {
   "cell_type": "code",
   "execution_count": null,
   "metadata": {},
   "outputs": [],
   "source": [
    "m = gpd.GeoSeries([city_boundaries],crs=natbar.crs).explore(\n",
    "    opacity =.1, name = \"city\", tiles=\"CartoDB.Positron\")\n",
    "natbar.explore(\n",
    "    m=m, name=\"natural barriers\", color = \"black\"\n",
    "    )\n",
    "polygons.explore(\n",
    "    m=m, name = \"polygons inbetween\", opacity = 0.4, column = \"user_count\", cmap = \"Set2\"\n",
    ")\n",
    "nodes.explore(\n",
    "    m=m, name = \"random users\"\n",
    ")\n",
    "folium.LayerControl().add_to(m)\n",
    "m"
   ]
  }
 ],
 "metadata": {
  "kernelspec": {
   "display_name": "highenv",
   "language": "python",
   "name": "python3"
  },
  "language_info": {
   "codemirror_mode": {
    "name": "ipython",
    "version": 3
   },
   "file_extension": ".py",
   "mimetype": "text/x-python",
   "name": "python",
   "nbconvert_exporter": "python",
   "pygments_lexer": "ipython3",
   "version": "3.12.3"
  }
 },
 "nbformat": 4,
 "nbformat_minor": 2
}
