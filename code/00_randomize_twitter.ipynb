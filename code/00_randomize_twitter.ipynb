{
 "cells": [
  {
   "cell_type": "markdown",
   "metadata": {},
   "source": [
    "# Randomized Twitter data generation\n",
    "\n",
    "> Note: since the data has been already generated, this notebook does not need to be run again.\n",
    "\n",
    "This notebook takes as input:\n",
    "* `'../data/cbsacode.csv'` (list of 50 US cities)\n",
    "* `'../data/tract_ids.gpkg'` (list of unique census tract IDs for all cities)\n",
    "Then,\n",
    "* 5 cities from the `cbsacode.csv` list are chosen at random\n",
    "* for each of those cities, 1000 geolocated points (\"users\") are randomly sampled (within the metropolitan are boundaries), and user IDs are randomly allocated - those are the nodes of our social network\n",
    "* for each of those cities, 2500 unique user pairs are randomly sampled (\"mutual followerships\") - those are the edges of our social network\n",
    "* the node and edge files (for all 5 cities at once) are saved to: `./data/twitter_dummy/twitter_users_tract_random.gpkg` and `./data/twitter_dummy/twitter_follower_edges_random.gpkg`"
   ]
  },
  {
   "cell_type": "code",
   "execution_count": 1,
   "metadata": {},
   "outputs": [],
   "source": [
    "# import libraries\n",
    "import os\n",
    "import pandas as pd\n",
    "import geopandas as gpd\n",
    "import shapely\n",
    "import random\n",
    "random.seed(43)\n",
    "from itertools import permutations"
   ]
  },
  {
   "cell_type": "code",
   "execution_count": 2,
   "metadata": {},
   "outputs": [],
   "source": [
    "# make subfolders for results\n",
    "os.makedirs(\"../data/twitter_dummy/\", exist_ok=True)"
   ]
  },
  {
   "cell_type": "code",
   "execution_count": 3,
   "metadata": {},
   "outputs": [],
   "source": [
    "# define filepaths\n",
    "cbsacode_file = '../data/cbsacode.csv'\n",
    "tract_file = '../data/tract_ids.gpkg'"
   ]
  },
  {
   "cell_type": "code",
   "execution_count": 4,
   "metadata": {},
   "outputs": [],
   "source": [
    "# define sizes for generated data sets\n",
    "nr_points = 1000 # number of points (nodes) to sample from each city\n",
    "nr_edges = 2500 # number of node pairs (edges) to sample from each city "
   ]
  },
  {
   "cell_type": "code",
   "execution_count": 5,
   "metadata": {},
   "outputs": [],
   "source": [
    "# define projected CRS for distance computation\n",
    "proj_crs = \"ESRI:102010\""
   ]
  },
  {
   "cell_type": "markdown",
   "metadata": {},
   "source": [
    "### CBSA set"
   ]
  },
  {
   "cell_type": "code",
   "execution_count": 6,
   "metadata": {},
   "outputs": [],
   "source": [
    "# read in cbsacodes, randomly pick 5 cities\n",
    "df_cbsacodes = pd.read_csv(cbsacode_file)\n",
    "cities_random = random.choices(df_cbsacodes.cbsacode, k = 5)\n",
    "df_cbsacodes = df_cbsacodes[df_cbsacodes.cbsacode.isin(cities_random)].copy().reset_index(drop=True)"
   ]
  },
  {
   "cell_type": "code",
   "execution_count": 7,
   "metadata": {},
   "outputs": [],
   "source": [
    "# drop not needed columns\n",
    "df_cbsacodes = df_cbsacodes[[\"cbsacode\", \"name\", \"full_name\", \"geometry\", \"west\", \"south\", \"east\", \"north\"]]\n",
    "# convert text to shapely Polygon\n",
    "df_cbsacodes[\"geometry\"] = df_cbsacodes.geometry.apply(lambda x: shapely.from_wkt(x))\n",
    "# convert to geodataframe\n",
    "gdf_cbsacodes = gpd.GeoDataFrame(df_cbsacodes, crs = \"EPSG:4326\")\n",
    "# save to folder\n",
    "gdf_cbsacodes.to_file(\"../data/twitter_dummy/cbsacode_random.gpkg\")"
   ]
  },
  {
   "cell_type": "markdown",
   "metadata": {},
   "source": [
    "### Nodes\n",
    "\n",
    "* randomly sample 1000 points for each of the randomly sampled cities (within the given city boundaries)\n",
    "* randomly allocate user IDs"
   ]
  },
  {
   "cell_type": "code",
   "execution_count": 8,
   "metadata": {},
   "outputs": [],
   "source": [
    "cbsacode = []\n",
    "geoms = []\n",
    "\n",
    "for city in cities_random:\n",
    "    # get 1000 sample points from the city geometry\n",
    "    points = gdf_cbsacodes[gdf_cbsacodes[\"cbsacode\"]==city].geometry.sample_points(\n",
    "        size = nr_points, \n",
    "        rng = 42\n",
    "        )\n",
    "    points_exploded = points.explode(index_parts=False).reset_index(drop=True)\n",
    "    geoms += list(points_exploded)\n",
    "    cbsacode += [city] * nr_points"
   ]
  },
  {
   "cell_type": "code",
   "execution_count": 9,
   "metadata": {},
   "outputs": [],
   "source": [
    "gdf_nodes = gpd.GeoDataFrame(\n",
    "    {\n",
    "        \"cbsacode\": cbsacode,\n",
    "        \"geometry\": geoms\n",
    "    },\n",
    "    crs = gdf_cbsacodes.crs\n",
    ")\n",
    "\n",
    "gdf_nodes[\"user_id\"] = gdf_nodes.index\n",
    "gdf_nodes[\"lat_home\"] = gdf_nodes.apply(lambda x: x.geometry.xy[1][0], axis = 1)\n",
    "gdf_nodes[\"lon_home\"] = gdf_nodes.apply(lambda x: x.geometry.xy[0][0], axis = 1)"
   ]
  },
  {
   "cell_type": "code",
   "execution_count": 10,
   "metadata": {},
   "outputs": [],
   "source": [
    "# add home census tract ID (for regressions to be run later)\n",
    "tract_ids = gpd.read_file(tract_file)\n",
    "mytree = shapely.strtree.STRtree(geoms=tract_ids.geometry)\n",
    "q = mytree.query(gdf_nodes.geometry, predicate=\"within\")\n",
    "# q[0] ...nodes indeces\n",
    "# q[1] ...tract_id indeces\n",
    "gdf_nodes[\"tract_home\"] = None\n",
    "gdf_nodes.loc[q[0], \"tract_home\"] = list(tract_ids.loc[q[1], \"full_geoid\"])"
   ]
  },
  {
   "cell_type": "markdown",
   "metadata": {},
   "source": [
    "### Edges\n",
    "\n",
    "* Randomly sample 2500 node pairs for each city (user_id1, user_id2)\n",
    "* Compute distance (on projected crs: \"ESRI:102010\")"
   ]
  },
  {
   "cell_type": "code",
   "execution_count": 11,
   "metadata": {},
   "outputs": [],
   "source": [
    "# only for distance computations\n",
    "gdf_nodes_proj = gdf_nodes.to_crs(proj_crs)"
   ]
  },
  {
   "cell_type": "code",
   "execution_count": 12,
   "metadata": {},
   "outputs": [],
   "source": [
    "cbsacode = []\n",
    "user_id1 = []\n",
    "user_id2 = []\n",
    "distances = []\n",
    "\n",
    "for city in cities_random:\n",
    "    \n",
    "    # get random user1-user2 pairs for each city\n",
    "    user_ids_all = list(gdf_nodes[gdf_nodes[\"cbsacode\"]==city].user_id)\n",
    "    user_ids = random.choices(\n",
    "        [per for per in permutations(user_ids_all, 2)],\n",
    "        k = nr_edges\n",
    "    )\n",
    "\n",
    "    # compute distances\n",
    "    user0 = gdf_nodes_proj.loc[[user[0] for user in user_ids]].copy().reset_index(drop=True)\n",
    "    user1 = gdf_nodes_proj.loc[[user[1] for user in user_ids]].copy().reset_index(drop=True)\n",
    "    dist = [int(d) for d in user0.distance(user1)]\n",
    "    \n",
    "    cbsacode += [city] * nr_edges\n",
    "    user_id1 += [user[0] for user in user_ids]\n",
    "    user_id2 += [user[1] for user in user_ids]\n",
    "    distances += dist\n",
    "\n",
    "df_edges = pd.DataFrame(\n",
    "    {\n",
    "        \"cbsacode\": cbsacode,\n",
    "        \"user_id1\": user_id1,\n",
    "        \"user_id2\": user_id2,\n",
    "        \"distance_m\": distances\n",
    "    }\n",
    ")\n",
    "\n",
    "df_edges[\"lat_home1\"] = df_edges.apply(lambda x: gdf_nodes.loc[x.user_id1][\"lat_home\"], axis = 1)\n",
    "df_edges[\"lon_home1\"] = df_edges.apply(lambda x: gdf_nodes.loc[x.user_id1][\"lon_home\"], axis = 1)\n",
    "df_edges[\"lat_home2\"] = df_edges.apply(lambda x: gdf_nodes.loc[x.user_id2][\"lat_home\"], axis = 1)\n",
    "df_edges[\"lon_home2\"] = df_edges.apply(lambda x: gdf_nodes.loc[x.user_id2][\"lon_home\"], axis = 1)"
   ]
  },
  {
   "cell_type": "code",
   "execution_count": 13,
   "metadata": {},
   "outputs": [],
   "source": [
    "# add social connections as linestrings (just in case)\n",
    "geoms = df_edges.apply(\n",
    "    lambda x: shapely.geometry.LineString(\n",
    "        [\n",
    "            gdf_nodes.loc[x.user_id1][\"geometry\"],\n",
    "            gdf_nodes.loc[x.user_id2][\"geometry\"]\n",
    "        ]\n",
    "    ), \n",
    "    axis = 1\n",
    ")\n",
    "\n",
    "gdf_edges = gpd.GeoDataFrame(\n",
    "    df_edges\n",
    ")\n",
    "gdf_edges = gdf_edges.set_geometry(geoms)"
   ]
  },
  {
   "cell_type": "markdown",
   "metadata": {},
   "source": [
    "### Save final outcomes as gpkg (jic) and as csv"
   ]
  },
  {
   "cell_type": "code",
   "execution_count": 14,
   "metadata": {},
   "outputs": [
    {
     "data": {
      "text/html": [
       "<div>\n",
       "<style scoped>\n",
       "    .dataframe tbody tr th:only-of-type {\n",
       "        vertical-align: middle;\n",
       "    }\n",
       "\n",
       "    .dataframe tbody tr th {\n",
       "        vertical-align: top;\n",
       "    }\n",
       "\n",
       "    .dataframe thead th {\n",
       "        text-align: right;\n",
       "    }\n",
       "</style>\n",
       "<table border=\"1\" class=\"dataframe\">\n",
       "  <thead>\n",
       "    <tr style=\"text-align: right;\">\n",
       "      <th></th>\n",
       "      <th>cbsacode</th>\n",
       "      <th>geometry</th>\n",
       "      <th>user_id</th>\n",
       "      <th>lat_home</th>\n",
       "      <th>lon_home</th>\n",
       "      <th>tract_home</th>\n",
       "    </tr>\n",
       "  </thead>\n",
       "  <tbody>\n",
       "    <tr>\n",
       "      <th>0</th>\n",
       "      <td>12420</td>\n",
       "      <td>POINT (-98.26857 30.03673)</td>\n",
       "      <td>0</td>\n",
       "      <td>30.036734</td>\n",
       "      <td>-98.268568</td>\n",
       "      <td>14000US48209010803</td>\n",
       "    </tr>\n",
       "    <tr>\n",
       "      <th>1</th>\n",
       "      <td>12420</td>\n",
       "      <td>POINT (-98.24462 30.17087)</td>\n",
       "      <td>1</td>\n",
       "      <td>30.170874</td>\n",
       "      <td>-98.244619</td>\n",
       "      <td>14000US48209010807</td>\n",
       "    </tr>\n",
       "    <tr>\n",
       "      <th>2</th>\n",
       "      <td>12420</td>\n",
       "      <td>POINT (-98.24225 30.08819)</td>\n",
       "      <td>2</td>\n",
       "      <td>30.088194</td>\n",
       "      <td>-98.242250</td>\n",
       "      <td>14000US48209010803</td>\n",
       "    </tr>\n",
       "  </tbody>\n",
       "</table>\n",
       "</div>"
      ],
      "text/plain": [
       "   cbsacode                    geometry  user_id   lat_home   lon_home  \\\n",
       "0     12420  POINT (-98.26857 30.03673)        0  30.036734 -98.268568   \n",
       "1     12420  POINT (-98.24462 30.17087)        1  30.170874 -98.244619   \n",
       "2     12420  POINT (-98.24225 30.08819)        2  30.088194 -98.242250   \n",
       "\n",
       "           tract_home  \n",
       "0  14000US48209010803  \n",
       "1  14000US48209010807  \n",
       "2  14000US48209010803  "
      ]
     },
     "execution_count": 14,
     "metadata": {},
     "output_type": "execute_result"
    }
   ],
   "source": [
    "gdf_nodes.head(3)"
   ]
  },
  {
   "cell_type": "code",
   "execution_count": 15,
   "metadata": {},
   "outputs": [
    {
     "data": {
      "text/html": [
       "<div>\n",
       "<style scoped>\n",
       "    .dataframe tbody tr th:only-of-type {\n",
       "        vertical-align: middle;\n",
       "    }\n",
       "\n",
       "    .dataframe tbody tr th {\n",
       "        vertical-align: top;\n",
       "    }\n",
       "\n",
       "    .dataframe thead th {\n",
       "        text-align: right;\n",
       "    }\n",
       "</style>\n",
       "<table border=\"1\" class=\"dataframe\">\n",
       "  <thead>\n",
       "    <tr style=\"text-align: right;\">\n",
       "      <th></th>\n",
       "      <th>cbsacode</th>\n",
       "      <th>user_id1</th>\n",
       "      <th>user_id2</th>\n",
       "      <th>distance_m</th>\n",
       "      <th>lat_home1</th>\n",
       "      <th>lon_home1</th>\n",
       "      <th>lat_home2</th>\n",
       "      <th>lon_home2</th>\n",
       "      <th>geometry</th>\n",
       "    </tr>\n",
       "  </thead>\n",
       "  <tbody>\n",
       "    <tr>\n",
       "      <th>0</th>\n",
       "      <td>12420</td>\n",
       "      <td>792</td>\n",
       "      <td>951</td>\n",
       "      <td>32738</td>\n",
       "      <td>29.911383</td>\n",
       "      <td>-97.338340</td>\n",
       "      <td>30.179204</td>\n",
       "      <td>-97.189035</td>\n",
       "      <td>LINESTRING (-97.33834 29.91138, -97.18904 30.1...</td>\n",
       "    </tr>\n",
       "    <tr>\n",
       "      <th>1</th>\n",
       "      <td>12420</td>\n",
       "      <td>453</td>\n",
       "      <td>189</td>\n",
       "      <td>25538</td>\n",
       "      <td>30.444387</td>\n",
       "      <td>-97.598463</td>\n",
       "      <td>30.359225</td>\n",
       "      <td>-97.856466</td>\n",
       "      <td>LINESTRING (-97.59846 30.44439, -97.85647 30.3...</td>\n",
       "    </tr>\n",
       "    <tr>\n",
       "      <th>2</th>\n",
       "      <td>12420</td>\n",
       "      <td>498</td>\n",
       "      <td>271</td>\n",
       "      <td>79553</td>\n",
       "      <td>30.678173</td>\n",
       "      <td>-97.569711</td>\n",
       "      <td>29.975901</td>\n",
       "      <td>-97.747485</td>\n",
       "      <td>LINESTRING (-97.56971 30.67817, -97.74749 29.9...</td>\n",
       "    </tr>\n",
       "  </tbody>\n",
       "</table>\n",
       "</div>"
      ],
      "text/plain": [
       "   cbsacode  user_id1  user_id2  distance_m  lat_home1  lon_home1  lat_home2  \\\n",
       "0     12420       792       951       32738  29.911383 -97.338340  30.179204   \n",
       "1     12420       453       189       25538  30.444387 -97.598463  30.359225   \n",
       "2     12420       498       271       79553  30.678173 -97.569711  29.975901   \n",
       "\n",
       "   lon_home2                                           geometry  \n",
       "0 -97.189035  LINESTRING (-97.33834 29.91138, -97.18904 30.1...  \n",
       "1 -97.856466  LINESTRING (-97.59846 30.44439, -97.85647 30.3...  \n",
       "2 -97.747485  LINESTRING (-97.56971 30.67817, -97.74749 29.9...  "
      ]
     },
     "execution_count": 15,
     "metadata": {},
     "output_type": "execute_result"
    }
   ],
   "source": [
    "gdf_edges.head(3)"
   ]
  },
  {
   "cell_type": "code",
   "execution_count": 16,
   "metadata": {},
   "outputs": [],
   "source": [
    "gdf_nodes.to_file(\"../data/twitter_dummy/twitter_users_tract_random.gpkg\", index = False)\n",
    "gdf_edges.to_file(\"../data/twitter_dummy/twitter_follower_edges_random.gpkg\", index = False)"
   ]
  },
  {
   "cell_type": "code",
   "execution_count": 17,
   "metadata": {},
   "outputs": [],
   "source": [
    "gdf_nodes.drop(columns = [\"geometry\"]).to_csv(\"../data/twitter_dummy/twitter_users_tract_random.csv\", index = False)\n",
    "gdf_edges.drop(columns = [\"geometry\"]).to_csv(\"../data/twitter_dummy/twitter_follower_edges_random.csv\", index = False)"
   ]
  }
 ],
 "metadata": {
  "kernelspec": {
   "display_name": "Python 3",
   "language": "python",
   "name": "python3"
  },
  "language_info": {
   "codemirror_mode": {
    "name": "ipython",
    "version": 3
   },
   "file_extension": ".py",
   "mimetype": "text/x-python",
   "name": "python",
   "nbconvert_exporter": "python",
   "pygments_lexer": "ipython3",
   "version": "3.12.3"
  }
 },
 "nbformat": 4,
 "nbformat_minor": 2
}
