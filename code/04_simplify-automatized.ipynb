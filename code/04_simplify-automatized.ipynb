{
 "cells": [
  {
   "cell_type": "markdown",
   "metadata": {},
   "source": [
    "# Highway network skeletonization\n",
    "\n",
    "@anastassiavybornova : todo to make reproducible & fit with rest of workflow: \n",
    "* add bleeding edge pip install of uscuni/simplification to env\n",
    "* yml with settings for 3 different cities\n",
    "* loop over CBSAs\n",
    "* refactor directories to fit this repo"
   ]
  },
  {
   "cell_type": "markdown",
   "metadata": {},
   "source": [
    "Jacksonville: 27260, Milwaukee: 33340, Portland: 38900\n",
    "\n",
    "Compare with: https://www.dropbox.com/scl/fo/y5ztboz4lnxjhhedrjwx5/AFMMecr0XnktH_ZlTnkGaIc?rlkey=ocz06xoeh0bp1cc69jchgn954&dl=0\n",
    "\n",
    "12060_Atlanta_map.shp\n"
   ]
  },
  {
   "cell_type": "code",
   "execution_count": null,
   "metadata": {},
   "outputs": [],
   "source": [
    "import logging\n",
    "import warnings\n",
    "\n",
    "import folium\n",
    "from core import algorithms, utils\n",
    "import geopandas as gpd\n",
    "import osmnx as ox\n",
    "import shapely\n",
    "import numpy as np\n",
    "import pandas as pd\n",
    "from shapely.geometry import LineString\n",
    "from core.geometry import voronoi_skeleton\n",
    "import momepy\n",
    "import networkx as nx"
   ]
  },
  {
   "cell_type": "markdown",
   "metadata": {},
   "source": [
    "Filter out the RuntimeWarning showing on Apple Silicon."
   ]
  },
  {
   "cell_type": "code",
   "execution_count": null,
   "metadata": {},
   "outputs": [],
   "source": [
    "warnings.filterwarnings(\n",
    "    \"ignore\",\n",
    "    category=RuntimeWarning,\n",
    "    message=\"invalid value encountered in intersection\",\n",
    ")"
   ]
  },
  {
   "cell_type": "markdown",
   "metadata": {},
   "source": [
    "Set logging level to debug to see the debugging messages."
   ]
  },
  {
   "cell_type": "code",
   "execution_count": null,
   "metadata": {},
   "outputs": [],
   "source": [
    "# # Get the logger for core.algorithms.simplify\n",
    "# logger = logging.getLogger('core.algorithms.simplify')\n",
    "# logger.setLevel(logging.DEBUG)\n",
    "\n",
    "# # Set the logging format\n",
    "# formatter = logging.Formatter('%(asctime)s - %(name)s - %(levelname)s - %(message)s')\n",
    "\n",
    "# # Create a handler for the logger\n",
    "# handler = logging.StreamHandler()\n",
    "# handler.setLevel(logging.DEBUG)\n",
    "# handler.setFormatter(formatter)\n",
    "\n",
    "# # Add the handler to the logger\n",
    "# logger.addHandler(handler)"
   ]
  },
  {
   "cell_type": "code",
   "execution_count": null,
   "metadata": {},
   "outputs": [],
   "source": [
    "# specify case metadata (TODO: loop over, same parameters for all 3 cities?)\n",
    "case = 38900\n",
    "\n",
    "# SETTINGS JUST FOR PORTLAND\n",
    "mybuffer = 75 # TODO: set to 300 for other 2 cities!!\n",
    "length_threshold = 0.1*10**4 # TODO: set to 10**4 for other 2 cities!!\n",
    "my_coordnum = 30\n",
    "my_maxseglen = 50\n",
    "my_danglefactor = 10 # TODO: set to 2.5 for other 2 cities!"
   ]
  },
  {
   "cell_type": "code",
   "execution_count": null,
   "metadata": {},
   "outputs": [],
   "source": [
    "def load_graph(mycbsacode):\n",
    "\n",
    "    lcc = ox.load_graphml(\n",
    "        f\"../data/{mycbsacode}/lcc.graphml\",\n",
    "        edge_dtypes={\n",
    "            \"length\": float,\n",
    "        },\n",
    "    )\n",
    "    # get its coordinate system\n",
    "    crs_byox = lcc.graph[\"crs\"]\n",
    "\n",
    "    # convert street network to gdf\n",
    "    network_gdf = ox.graph_to_gdfs(\n",
    "            G = lcc, \n",
    "            nodes = False, \n",
    "            edges = True, \n",
    "            node_geometry = False, \n",
    "            fill_edge_geometry = True)\n",
    "\n",
    "    # set crs\n",
    "    network_gdf = network_gdf.set_crs(crs_byox)\n",
    "\n",
    "    return network_gdf"
   ]
  },
  {
   "cell_type": "code",
   "execution_count": null,
   "metadata": {},
   "outputs": [],
   "source": [
    "# specify projection\n",
    "proj_crs = \"epsg:9311\"\n",
    "\n",
    "# read road data\n",
    "roads = load_graph(case)\n",
    "\n",
    "# project (so that we can buffer)\n",
    "roads = roads.to_crs(proj_crs)\n",
    "\n",
    "# buffer poly from all roads\n",
    "geom = roads.buffer(mybuffer).union_all()\n",
    "ser = gpd.GeoSeries([geom], crs = roads.crs)\n",
    "bou = ser.boundary\n",
    "bou = bou.explode().reset_index(drop=True)\n",
    "bou = gpd.GeoDataFrame({\"geometry\":bou}, crs = roads.crs)"
   ]
  },
  {
   "cell_type": "code",
   "execution_count": null,
   "metadata": {},
   "outputs": [],
   "source": [
    "# check if correct\n",
    "m = bou[bou.length>length_threshold].explore(tiles = \"cartodb positron\", name = \"bou\")\n",
    "roads.explore(m=m, color = \"black\")\n",
    "folium.LayerControl().add_to(m)\n",
    "m"
   ]
  },
  {
   "cell_type": "markdown",
   "metadata": {},
   "source": []
  },
  {
   "cell_type": "markdown",
   "metadata": {},
   "source": []
  },
  {
   "cell_type": "markdown",
   "metadata": {},
   "source": []
  },
  {
   "cell_type": "code",
   "execution_count": null,
   "metadata": {},
   "outputs": [],
   "source": [
    "# drop too-short linestrings\n",
    "bou_red = bou[bou.length>length_threshold].copy()\n",
    "\n",
    "# polygonize\n",
    "poly = shapely.polygonize(\n",
    "    np.array(\n",
    "        bou_red.geometry\n",
    "    )\n",
    ")\n",
    "\n",
    "gdf = gpd.GeoDataFrame(\n",
    "    {\n",
    "        \"geometry\": poly.geoms\n",
    "    },\n",
    "    crs = roads.crs\n",
    ")\n",
    "\n",
    "gdf[\"i\"] = gdf.index"
   ]
  },
  {
   "cell_type": "code",
   "execution_count": null,
   "metadata": {},
   "outputs": [],
   "source": [
    "# which one is the highway polygon?\n",
    "highway_index = 0"
   ]
  },
  {
   "cell_type": "code",
   "execution_count": null,
   "metadata": {},
   "outputs": [],
   "source": [
    "m = roads.explore(max_zoom=52, tiles=\"cartodb positron\", color=\"black\", prefer_canvas=True, name = \"roads\")\n",
    "gdf.explore(m=m, name = \"poly\", column = \"i\", opacity = .8)\n",
    "gdf[gdf[\"i\"]==highway_index].explore(m=m, name=\"highway\", color = \"red\")\n",
    "folium.LayerControl().add_to(m)\n",
    "m"
   ]
  },
  {
   "cell_type": "code",
   "execution_count": null,
   "metadata": {},
   "outputs": [],
   "source": [
    "highway = gdf.geometry[highway_index]"
   ]
  },
  {
   "cell_type": "code",
   "execution_count": null,
   "metadata": {},
   "outputs": [],
   "source": [
    "delin = gpd.GeoDataFrame(\n",
    "    {\n",
    "        \"geometry\":\n",
    "        [\n",
    "            LineString(r) for r in highway.interiors] + [LineString(highway.exterior)\n",
    "        ]\n",
    "    },\n",
    "    crs = roads.crs\n",
    ")\n",
    "delin"
   ]
  },
  {
   "cell_type": "code",
   "execution_count": null,
   "metadata": {},
   "outputs": [],
   "source": [
    "def unzip_line(geom, coordnum = 30):\n",
    "    longline = [c for c in geom.coords]\n",
    "    linestrings = []\n",
    "    current_linestring = []\n",
    "    for c in longline:\n",
    "        current_linestring.append(c)\n",
    "        if len(current_linestring) > coordnum:\n",
    "            linestrings.append(LineString(current_linestring))\n",
    "            del current_linestring\n",
    "            current_linestring = [c]\n",
    "    if current_linestring:\n",
    "        linestrings.append(LineString(current_linestring))\n",
    "    return linestrings"
   ]
  },
  {
   "cell_type": "code",
   "execution_count": null,
   "metadata": {},
   "outputs": [],
   "source": [
    "all_lines = []\n",
    "\n",
    "for geom in delin.geometry:\n",
    "    all_lines+= (\n",
    "        unzip_line(geom, my_coordnum)\n",
    "    )"
   ]
  },
  {
   "cell_type": "code",
   "execution_count": null,
   "metadata": {},
   "outputs": [],
   "source": [
    "lines = gpd.GeoDataFrame({\"geometry\": all_lines}, crs = roads.crs)\n",
    "lines[\"i\"] = lines.index\n",
    "lines.explore(tiles=\"cartodb positron\", column=\"i\")"
   ]
  },
  {
   "cell_type": "code",
   "execution_count": null,
   "metadata": {},
   "outputs": [],
   "source": [
    "skel = voronoi_skeleton(\n",
    "    lines = lines.geometry,\n",
    "    poly = highway,\n",
    "    max_segment_length = my_maxseglen\n",
    ")"
   ]
  },
  {
   "cell_type": "code",
   "execution_count": null,
   "metadata": {},
   "outputs": [],
   "source": [
    "m = roads.explore(max_zoom=52, tiles=\"cartodb positron\", color=\"black\", prefer_canvas=True, name = \"roads\")\n",
    "lines.explore(m=m, column=\"i\", name =\"lines\")\n",
    "gdf[gdf[\"i\"]==0].explore(m=m,color=\"yellow\", name = \"highway\", opacity = .7)\n",
    "gpd.GeoSeries(skel[0], crs = roads.crs).explore(m=m, name = \"skel\", color = \"red\", opacity = 0.9, style_kwds={\"weight\":2})\n",
    "folium.LayerControl().add_to(m)\n",
    "m"
   ]
  },
  {
   "cell_type": "code",
   "execution_count": null,
   "metadata": {},
   "outputs": [],
   "source": [
    "skel_gdf = gpd.GeoDataFrame({\"geometry\":skel[0]}, crs = roads.crs)\n",
    "skel_gdf[\"len\"] = skel_gdf.length"
   ]
  },
  {
   "cell_type": "code",
   "execution_count": null,
   "metadata": {},
   "outputs": [],
   "source": [
    "G = momepy.gdf_to_nx(gdf_network=skel_gdf, multigraph = False, integer_labels=True)\n",
    "for _ in range(5):\n",
    "    degree_one = [n for n in G.nodes if nx.degree(G, n)==1]\n",
    "    degree_one_to_remove = []\n",
    "    for n in degree_one:\n",
    "        if G.edges[list(G.edges(n))[0]][\"mm_len\"] < my_danglefactor * mybuffer:\n",
    "            degree_one_to_remove.append(n)\n",
    "    G.remove_nodes_from(degree_one_to_remove)\n",
    "edges = momepy.nx_to_gdf(G, points=False, lines=True)"
   ]
  },
  {
   "cell_type": "code",
   "execution_count": null,
   "metadata": {},
   "outputs": [],
   "source": [
    "edges_rem = momepy.remove_false_nodes(edges)\n",
    "edges_rem[\"i\"] = edges_rem.index"
   ]
  },
  {
   "cell_type": "markdown",
   "metadata": {},
   "source": [
    "## Check results:"
   ]
  },
  {
   "cell_type": "code",
   "execution_count": null,
   "metadata": {},
   "outputs": [],
   "source": [
    "m = roads.explore(max_zoom=52, tiles=\"cartodb positron\", color=\"black\", prefer_canvas=True, name = \"roads\")\n",
    "lines.explore(m=m, column=\"i\", name =\"lines\")\n",
    "#gdf[gdf[\"i\"]==0].explore(m=m,color=\"yellow\", name = \"highway\", opacity = .7)\n",
    "gpd.GeoSeries(skel[0], crs = roads.crs).explore(m=m, name = \"skel\", color = \"red\", opacity = 0.9, style_kwds={\"weight\":2})\n",
    "edges.explore(m=m, name = \"edges\", color = \"green\", style_kwds={\"weight\":3})\n",
    "edges_rem.explore(m=m, name = \"edges_rem\", column = \"i\", style_kwds={\"weight\":3}, highlight_kwds={\"color\":\"red\"})\n",
    "folium.LayerControl().add_to(m)\n",
    "m"
   ]
  },
  {
   "cell_type": "markdown",
   "metadata": {},
   "source": [
    "# Save results"
   ]
  },
  {
   "cell_type": "code",
   "execution_count": null,
   "metadata": {},
   "outputs": [],
   "source": [
    "edges_rem = edges_rem.to_crs(\"EPSG:4326\")\n",
    "edges_rem[[\"geometry\"]].to_file(f\"../data/{case}/{case}_simplified.gpkg\", index = False)"
   ]
  },
  {
   "cell_type": "code",
   "execution_count": null,
   "metadata": {},
   "outputs": [],
   "source": []
  },
  {
   "cell_type": "code",
   "execution_count": null,
   "metadata": {},
   "outputs": [],
   "source": []
  }
 ],
 "metadata": {
  "kernelspec": {
   "display_name": "simplification",
   "language": "python",
   "name": "python3"
  },
  "language_info": {
   "codemirror_mode": {
    "name": "ipython",
    "version": 3
   },
   "file_extension": ".py",
   "mimetype": "text/x-python",
   "name": "python",
   "nbconvert_exporter": "python",
   "pygments_lexer": "ipython3",
   "version": "3.11.9"
  }
 },
 "nbformat": 4,
 "nbformat_minor": 2
}
