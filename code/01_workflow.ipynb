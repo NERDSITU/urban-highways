{
 "cells": [
  {
   "cell_type": "markdown",
   "metadata": {},
   "source": [
    "# Workflow for \"Urban highways are barriers for social ties\"\n",
    "\n",
    "Before running the notebook, provide settings in `./code/config.yml`:\n",
    "\n",
    "* `dist`: \"beeline\" (or \"walking\") \n",
    "* `density`: 1 (or 0)\n",
    "* `rand_layout`: 0 (or 1)\n",
    "* `seed`: 42 (or any other integer)\n",
    "* `cbsa`: 16980 (one of: 12420, 16980, 33100, 38300, 38900)\n",
    "\n",
    "**Note:** make sure to choose the correct setting for `rand_layout`: \n",
    "* `rand_layout=0` will download *only* motorway data (~20 min runtime, ~MB data downloaded)\n",
    "* `rand_layout=1` will download *all* street network data (~several h runtime, ~GB data downloaded)\n",
    "\n",
    "The notebook will then run the workflow necessary to reproduce all major results and plots from the research paper [Urban highways are barriers for social ties](https://arxiv.org/abs/2404.11596). \n",
    "\n",
    "**Note:** due to privacy concerns, instead of providing the real Twitter data that informed the research paper, we run the entire workflow with randomly generated Twitter data (in the same format, but not containing any information from the original data set). This random data set has been generated within the notebook `00_randomize_twitter.ipynb`. "
   ]
  },
  {
   "cell_type": "code",
   "execution_count": 1,
   "metadata": {},
   "outputs": [],
   "source": [
    "import warnings\n",
    "warnings.filterwarnings(\"ignore\")\n",
    "import os\n",
    "import sys\n",
    "import argparse\n",
    "import random\n",
    "from time import time\n",
    "import numpy as np\n",
    "import pandas as pd\n",
    "import pickle\n",
    "import matplotlib.pyplot as plt\n",
    "import geopandas as gpd\n",
    "from shapely.geometry import LineString, Point, MultiPoint, MultiLineString, Polygon\n",
    "from tqdm import tqdm\n",
    "from geopy.distance import distance, geodesic, great_circle\n",
    "import osmnx as ox\n",
    "import networkx as nx\n",
    "import scipy.stats\n",
    "from scipy.stats import ks_2samp\n",
    "import sklearn\n",
    "import igraph\n",
    "from igraph import Graph\n",
    "\n",
    "from random import choice\n",
    "from bisect import bisect_left\n",
    "import copy\n",
    "\n",
    "from functools import partial\n",
    "import pyproj\n",
    "from pyproj import Geod\n",
    "from pyproj.crs import ProjectedCRS\n",
    "from pyproj.crs.coordinate_operation import AzimuthalEquidistantConversion\n",
    "from shapely.ops import transform\n",
    "\n",
    "import yaml\n",
    "from utils import *"
   ]
  },
  {
   "cell_type": "code",
   "execution_count": 2,
   "metadata": {},
   "outputs": [],
   "source": [
    "# set plot params\n",
    "plt.rcParams['figure.facecolor'] = 'white'\n",
    "plt.rcParams['font.size'] = 15"
   ]
  },
  {
   "cell_type": "code",
   "execution_count": 3,
   "metadata": {},
   "outputs": [],
   "source": [
    "# set OSM highway tags\n",
    "motorway_osm_labels = ['motorway', 'trunk', 'motorway_link', 'trunk_link']\n",
    "motorway_osm_filter = \"['highway'~'motorway|motorway_link|trunk|trunk_link']\""
   ]
  },
  {
   "cell_type": "code",
   "execution_count": 4,
   "metadata": {},
   "outputs": [],
   "source": [
    "# create subfolders for output data\n",
    "for sub in [\n",
    "    \"../data/street_networks_simplified/\",\n",
    "    \"../data/social_networks/\",\n",
    "    \"../data/social_networks_null/\",\n",
    "    \"../data/error_logs/\",\n",
    "    \"../plots/\",\n",
    "    \"../results/\",\n",
    "    \"../results_walking/\",\n",
    "]:\n",
    "    os.makedirs(sub, exist_ok=True)"
   ]
  },
  {
   "cell_type": "code",
   "execution_count": 5,
   "metadata": {},
   "outputs": [
    {
     "name": "stdout",
     "output_type": "stream",
     "text": [
      "Config file filled out correctly, proceeding\n"
     ]
    }
   ],
   "source": [
    "# load params from config file (instead of command line args)\n",
    "config = yaml.load(\n",
    "    open(\"config.yml\"), \n",
    "    Loader=yaml.FullLoader\n",
    "    )\n",
    "\n",
    "# check whether parameters are correctly set in config file\n",
    "check_configs(config)"
   ]
  },
  {
   "cell_type": "code",
   "execution_count": null,
   "metadata": {},
   "outputs": [],
   "source": [
    "# Gather parameters from config file\n",
    "beeline = config[\"dist\"] \n",
    "density = config[\"density\"]\n",
    "rand_layout = config[\"rand_layout\"]\n",
    "seed = config[\"seed\"]\n",
    "cbsacode = config[\"cbsa\"]\n",
    "\n",
    "distance_type = config[\"dist\"] if config[\"dist\"] is not None else 'beeline'  # beeline|walking: impacts how n-distance neighbors are selected\n",
    "filter_by_density = bool(int(config[\"density\"])) if config[\"density\"] is not None else True # preferential attachment based on density\n",
    "randomize_streets = int(config[\"rand_layout\"]) if config[\"rand_layout\"] is not None else 0 # whether the street layout should be randomized\n",
    "random_seed = int(config[\"seed\"]) if config[\"seed\"] is not None else 42 # the random seed for computation\n",
    "print(\n",
    "    f'Parameters: cbsacode={cbsacode}, distance_type={distance_type}, filter_by_density={filter_by_density}, randomize_streets={randomize_streets}, random_seed={random_seed}', \n",
    "    flush=True\n",
    ")\n",
    "\n",
    "# set seed\n",
    "random.seed(random_seed)"
   ]
  },
  {
   "cell_type": "code",
   "execution_count": 6,
   "metadata": {},
   "outputs": [],
   "source": [
    "gdf_cbsacodes = gpd.read_file('../data/twitter_dummy/cbsacode_random.gpkg')\n",
    "nodes_gpkg = '../data/twitter_dummy/twitter_users_tract_random.gpkg'\n",
    "edges_gpkg = '../data/twitter_dummy/twitter_follower_edges_random.gpkg'"
   ]
  },
  {
   "cell_type": "code",
   "execution_count": 7,
   "metadata": {},
   "outputs": [
    {
     "name": "stdout",
     "output_type": "stream",
     "text": [
      "Target city Chicago\n",
      "RANDOM SEED 42\n",
      "Ranomize streets = 0\n"
     ]
    }
   ],
   "source": [
    "target_city = gdf_cbsacodes[gdf_cbsacodes['cbsacode'] == cbsacode]\n",
    "city_name = target_city['name'].values[0]\n",
    "city_boundaries = target_city[\"geometry\"].values[0]\n",
    "print(f'Target city {city_name}')\n",
    "print(f'RANDOM SEED {random_seed}', flush=True)\n",
    "print(f'Ranomize streets = {randomize_streets}', flush=True)"
   ]
  },
  {
   "cell_type": "markdown",
   "metadata": {},
   "source": [
    "### Null model computation"
   ]
  },
  {
   "cell_type": "code",
   "execution_count": 8,
   "metadata": {},
   "outputs": [
    {
     "name": "stdout",
     "output_type": "stream",
     "text": [
      "downloading OSM data...\n",
      "Applying custom filter: ['highway'~'motorway|motorway_link|trunk|trunk_link']\n",
      "OSM data downloaded for 16980\n",
      "OSM data simplified\n",
      "Saving G_simplified...\n",
      "Saving gdfs...\n",
      "16980 DONE\n"
     ]
    }
   ],
   "source": [
    "### Download and save OSM data\n",
    "\n",
    "folder_osm = \"../data/street_networks_simplified/\"\n",
    "\n",
    "# determining whether to download all streets (for randomization; big dataset)\n",
    "# or only highways (if no randomization is requested)\n",
    "if randomize_streets:\n",
    "    custom_filter = None\n",
    "    dataset = \"allprivate\"\n",
    "else:\n",
    "    custom_filter = motorway_osm_filter\n",
    "    dataset = \"highways\"\n",
    "\n",
    "if os.path.exists(folder_osm + f'{cbsacode}_G_simplified_{dataset}.graphml'):\n",
    "    print(\"loading OSM data...\")\n",
    "    G = ox.load_graphml(folder_osm + f'{cbsacode}_G_simplified_{dataset}.graphml')\n",
    "    with open(folder_osm + f'{cbsacode}_streetnodes_{dataset}.pickle', 'rb') as handle:\n",
    "        gdf_nodes_city = pickle.load(handle)\n",
    "    with open(folder_osm +  f'{cbsacode}_streetedges_{dataset}.pickle', 'rb') as handle:\n",
    "        gdf_edges_city = pickle.load(handle)\n",
    "    print(f'{cbsacode} street graph for {dataset} loaded from file', flush=True)\n",
    "else:\n",
    "    print(\"downloading OSM data...\")\n",
    "    G, gdf_nodes_city, gdf_edges_city = get_street_network(\n",
    "        cbsacode=cbsacode,\n",
    "        polygon=city_boundaries,\n",
    "        customfilter=custom_filter,\n",
    "        dataset=dataset,\n",
    "        savetofolder=folder_osm,\n",
    "    )\n",
    "    print(f'{cbsacode} DONE', flush=True)"
   ]
  },
  {
   "cell_type": "code",
   "execution_count": 9,
   "metadata": {},
   "outputs": [],
   "source": [
    "# create street graph\n",
    "G_igraph = convert_nxgraph_to_igraph(G)"
   ]
  },
  {
   "cell_type": "code",
   "execution_count": 10,
   "metadata": {},
   "outputs": [
    {
     "name": "stdout",
     "output_type": "stream",
     "text": [
      "Filtering to city_boundaries -- nodes: 1000->1000 | edges: 2500->2500\n",
      "removing 0 edges with zero-distance\n",
      "16980 removed 0 edges with null distance\n",
      "16980 social graph files created\n"
     ]
    }
   ],
   "source": [
    "### Load and filter social data\n",
    "\n",
    "is_undirected = False # used in configuration_model_spatial_constraint()\n",
    "\n",
    "try:\n",
    "    gdf_nodes = gpd.read_parquet(f'../data/social_networks/{cbsacode}_gdf_nodes.pq')\n",
    "    gdf_edges = gpd.read_parquet(f'../data/social_networks/{cbsacode}_gdf_edges.pq')\n",
    "    print(f'{cbsacode} social graph loaded from file', flush=True)\n",
    "\n",
    "except:\n",
    "    # get dataframes of nodes and edges of the social network\n",
    "    gdf_nodes, gdf_edges = get_city_geodataframes(\n",
    "        nodes_gpkg, \n",
    "        edges_gpkg, \n",
    "        cbsacode, \n",
    "        city_boundaries = gdf_cbsacodes[gdf_cbsacodes[\"cbsacode\"]==cbsacode][\"geometry\"].values[0]\n",
    "    )\n",
    "\n",
    "    # pre-process social nodes dataframe\n",
    "    gdf_nodes = calculate_social_nodes_density(\n",
    "        gdf_nodes, \n",
    "        radius_m=400\n",
    "    )\n",
    "\n",
    "    gdf_nodes = calculate_closest_street_nodes_to_social_nodes(\n",
    "        gdf_nodes, \n",
    "        G\n",
    "    )\n",
    "\n",
    "    # pre-process social edges dataframe\n",
    "    gdf_edges = calculate_social_edges_distances(\n",
    "        G_igraph, \n",
    "        gdf_nodes_city, \n",
    "        gdf_nodes, \n",
    "        gdf_edges, \n",
    "        ignore_walking=True\n",
    "    )\n",
    "\n",
    "    # removes nodes and edges with null distance\n",
    "    all_rows = len(gdf_edges)\n",
    "    gdf_edges = gdf_edges.dropna()\n",
    "    print(f'{cbsacode} removed {all_rows - len(gdf_edges)} edges with null distance')\n",
    "\n",
    "    gdf_nodes = gdf_nodes[(gdf_nodes['user_id'].isin(gdf_edges['user_id1'])) | (gdf_nodes['user_id'].isin(gdf_edges['user_id2']))]\n",
    "\n",
    "    # save augmented dataframes on parquet\n",
    "    gdf_nodes.to_parquet(f'../data/social_networks/{cbsacode}_gdf_nodes.pq')\n",
    "    gdf_edges.to_parquet(f'../data/social_networks/{cbsacode}_gdf_edges.pq')\n",
    "    print(f'{cbsacode} social graph files created', flush=True)\n"
   ]
  },
  {
   "cell_type": "code",
   "execution_count": 11,
   "metadata": {},
   "outputs": [],
   "source": [
    "# safety check to filter out nodes without a tract assigned to them\n",
    "gdf_users = gpd.read_file(nodes_gpkg).dropna()\n",
    "gdf_nodes = gdf_nodes[gdf_nodes['user_id'].isin(gdf_users['user_id'])]\n",
    "gdf_edges = gdf_edges[(gdf_edges['user_id1'].isin(gdf_users['user_id'])) & (gdf_edges['user_id2'].isin(gdf_users['user_id']))]"
   ]
  },
  {
   "cell_type": "code",
   "execution_count": 12,
   "metadata": {
    "scrolled": true
   },
   "outputs": [
    {
     "name": "stdout",
     "output_type": "stream",
     "text": [
      "16980 computing null model from scratch\n",
      "== 925 2500\n"
     ]
    },
    {
     "name": "stderr",
     "output_type": "stream",
     "text": [
      "396it [00:50,  8.50it/s]"
     ]
    },
    {
     "name": "stdout",
     "output_type": "stream",
     "text": [
      "**, 590.3897845407428\n"
     ]
    },
    {
     "name": "stderr",
     "output_type": "stream",
     "text": [
      "440it [00:54,  9.14it/s]"
     ]
    },
    {
     "name": "stdout",
     "output_type": "stream",
     "text": [
      "**, 590.3897845407428\n"
     ]
    },
    {
     "name": "stderr",
     "output_type": "stream",
     "text": [
      "999it [02:00, 10.94it/s]"
     ]
    },
    {
     "name": "stdout",
     "output_type": "stream",
     "text": [
      "1000 edges parsed (0 cache hits)\n",
      "--- 677 1503\n"
     ]
    },
    {
     "name": "stderr",
     "output_type": "stream",
     "text": [
      "1477it [03:02,  6.89it/s]"
     ]
    },
    {
     "name": "stdout",
     "output_type": "stream",
     "text": [
      "**, 590.3897845407428\n"
     ]
    },
    {
     "name": "stderr",
     "output_type": "stream",
     "text": [
      "1517it [03:08,  6.43it/s]"
     ]
    },
    {
     "name": "stdout",
     "output_type": "stream",
     "text": [
      "**, 590.3897845407428\n"
     ]
    },
    {
     "name": "stderr",
     "output_type": "stream",
     "text": [
      "1518it [03:08,  4.07it/s]"
     ]
    },
    {
     "name": "stdout",
     "output_type": "stream",
     "text": [
      "**, 590.3897845407428\n"
     ]
    },
    {
     "name": "stderr",
     "output_type": "stream",
     "text": [
      "1679it [03:30,  5.99it/s]"
     ]
    },
    {
     "name": "stdout",
     "output_type": "stream",
     "text": [
      "**, 590.3897845407428\n"
     ]
    },
    {
     "name": "stderr",
     "output_type": "stream",
     "text": [
      "1714it [03:36,  9.15it/s]"
     ]
    },
    {
     "name": "stdout",
     "output_type": "stream",
     "text": [
      "**, 590.3897845407428\n"
     ]
    },
    {
     "name": "stderr",
     "output_type": "stream",
     "text": [
      "1721it [03:38,  6.04it/s]"
     ]
    },
    {
     "name": "stdout",
     "output_type": "stream",
     "text": [
      "**, 590.3897845407428\n"
     ]
    },
    {
     "name": "stderr",
     "output_type": "stream",
     "text": [
      "1762it [03:44,  6.03it/s]"
     ]
    },
    {
     "name": "stdout",
     "output_type": "stream",
     "text": [
      "**, 590.3897845407428\n"
     ]
    },
    {
     "name": "stderr",
     "output_type": "stream",
     "text": [
      "1765it [03:44,  5.91it/s]"
     ]
    },
    {
     "name": "stdout",
     "output_type": "stream",
     "text": [
      "**, 590.3897845407428\n"
     ]
    },
    {
     "name": "stderr",
     "output_type": "stream",
     "text": [
      "1788it [03:48,  7.80it/s]"
     ]
    },
    {
     "name": "stdout",
     "output_type": "stream",
     "text": [
      "**, 590.3897845407428\n"
     ]
    },
    {
     "name": "stderr",
     "output_type": "stream",
     "text": [
      "1829it [03:53,  8.18it/s]"
     ]
    },
    {
     "name": "stdout",
     "output_type": "stream",
     "text": [
      "**, 590.3897845407428\n"
     ]
    },
    {
     "name": "stderr",
     "output_type": "stream",
     "text": [
      "1846it [03:55,  8.66it/s]"
     ]
    },
    {
     "name": "stdout",
     "output_type": "stream",
     "text": [
      "**, 590.3897845407428\n"
     ]
    },
    {
     "name": "stderr",
     "output_type": "stream",
     "text": [
      "1853it [03:56,  7.94it/s]"
     ]
    },
    {
     "name": "stdout",
     "output_type": "stream",
     "text": [
      "**, 590.3897845407428\n"
     ]
    },
    {
     "name": "stderr",
     "output_type": "stream",
     "text": [
      "1868it [03:58,  7.66it/s]"
     ]
    },
    {
     "name": "stdout",
     "output_type": "stream",
     "text": [
      "**, 590.3897845407428\n"
     ]
    },
    {
     "name": "stderr",
     "output_type": "stream",
     "text": [
      "1905it [04:03, 10.00it/s]"
     ]
    },
    {
     "name": "stdout",
     "output_type": "stream",
     "text": [
      "**, 590.3897845407428\n"
     ]
    },
    {
     "name": "stderr",
     "output_type": "stream",
     "text": [
      "1909it [04:04,  4.37it/s]"
     ]
    },
    {
     "name": "stdout",
     "output_type": "stream",
     "text": [
      "**, 590.3897845407428\n"
     ]
    },
    {
     "name": "stderr",
     "output_type": "stream",
     "text": [
      "1931it [04:08,  9.60it/s]"
     ]
    },
    {
     "name": "stdout",
     "output_type": "stream",
     "text": [
      "**, 590.3897845407428\n"
     ]
    },
    {
     "name": "stderr",
     "output_type": "stream",
     "text": [
      "1938it [04:09,  9.34it/s]"
     ]
    },
    {
     "name": "stdout",
     "output_type": "stream",
     "text": [
      "**, 590.3897845407428\n"
     ]
    },
    {
     "name": "stderr",
     "output_type": "stream",
     "text": [
      "1972it [04:13,  9.20it/s]"
     ]
    },
    {
     "name": "stdout",
     "output_type": "stream",
     "text": [
      "**, 590.3897845407428\n"
     ]
    },
    {
     "name": "stderr",
     "output_type": "stream",
     "text": [
      "1978it [04:14,  7.83it/s]"
     ]
    },
    {
     "name": "stdout",
     "output_type": "stream",
     "text": [
      "**, 590.3897845407428\n"
     ]
    },
    {
     "name": "stderr",
     "output_type": "stream",
     "text": [
      "1999it [04:17,  8.34it/s]"
     ]
    },
    {
     "name": "stdout",
     "output_type": "stream",
     "text": [
      "2000 edges parsed (0 cache hits)\n",
      "--- 303 522\n"
     ]
    },
    {
     "name": "stderr",
     "output_type": "stream",
     "text": [
      "2014it [04:20,  8.07it/s]"
     ]
    },
    {
     "name": "stdout",
     "output_type": "stream",
     "text": [
      "**, 590.3897845407428\n"
     ]
    },
    {
     "name": "stderr",
     "output_type": "stream",
     "text": [
      "2020it [04:21,  4.87it/s]"
     ]
    },
    {
     "name": "stdout",
     "output_type": "stream",
     "text": [
      "**, 590.3897845407428\n"
     ]
    },
    {
     "name": "stderr",
     "output_type": "stream",
     "text": [
      "2023it [04:22,  5.23it/s]"
     ]
    },
    {
     "name": "stdout",
     "output_type": "stream",
     "text": [
      "**, 590.3897845407428\n"
     ]
    },
    {
     "name": "stderr",
     "output_type": "stream",
     "text": [
      "2024it [04:22,  4.42it/s]"
     ]
    },
    {
     "name": "stdout",
     "output_type": "stream",
     "text": [
      "**, 590.3897845407428\n"
     ]
    },
    {
     "name": "stderr",
     "output_type": "stream",
     "text": [
      "2029it [04:23,  5.91it/s]"
     ]
    },
    {
     "name": "stdout",
     "output_type": "stream",
     "text": [
      "**, 590.3897845407428\n"
     ]
    },
    {
     "name": "stderr",
     "output_type": "stream",
     "text": [
      "2044it [04:25,  7.12it/s]"
     ]
    },
    {
     "name": "stdout",
     "output_type": "stream",
     "text": [
      "**, 590.3897845407428\n"
     ]
    },
    {
     "name": "stderr",
     "output_type": "stream",
     "text": [
      "2052it [04:26,  6.57it/s]"
     ]
    },
    {
     "name": "stdout",
     "output_type": "stream",
     "text": [
      "**, 590.3897845407428\n"
     ]
    },
    {
     "name": "stderr",
     "output_type": "stream",
     "text": [
      "2062it [04:28,  7.29it/s]"
     ]
    },
    {
     "name": "stdout",
     "output_type": "stream",
     "text": [
      "**, 590.3897845407428\n"
     ]
    },
    {
     "name": "stderr",
     "output_type": "stream",
     "text": [
      "2063it [04:28,  5.06it/s]"
     ]
    },
    {
     "name": "stdout",
     "output_type": "stream",
     "text": [
      "**, 590.3897845407428\n"
     ]
    },
    {
     "name": "stderr",
     "output_type": "stream",
     "text": [
      "2071it [04:29,  6.76it/s]"
     ]
    },
    {
     "name": "stdout",
     "output_type": "stream",
     "text": [
      "**, 590.3897845407428\n"
     ]
    },
    {
     "name": "stderr",
     "output_type": "stream",
     "text": [
      "2074it [04:30,  5.92it/s]"
     ]
    },
    {
     "name": "stdout",
     "output_type": "stream",
     "text": [
      "**, 590.3897845407428\n"
     ]
    },
    {
     "name": "stderr",
     "output_type": "stream",
     "text": [
      "2082it [04:31,  7.51it/s]"
     ]
    },
    {
     "name": "stdout",
     "output_type": "stream",
     "text": [
      "**, 590.3897845407428\n"
     ]
    },
    {
     "name": "stderr",
     "output_type": "stream",
     "text": [
      "2083it [04:31,  5.66it/s]"
     ]
    },
    {
     "name": "stdout",
     "output_type": "stream",
     "text": [
      "**, 590.3897845407428\n"
     ]
    },
    {
     "name": "stderr",
     "output_type": "stream",
     "text": [
      "2092it [04:33,  4.69it/s]"
     ]
    },
    {
     "name": "stdout",
     "output_type": "stream",
     "text": [
      "**, 590.3897845407428\n"
     ]
    },
    {
     "name": "stderr",
     "output_type": "stream",
     "text": [
      "2103it [04:35,  7.05it/s]"
     ]
    },
    {
     "name": "stdout",
     "output_type": "stream",
     "text": [
      "**, 590.3897845407428\n"
     ]
    },
    {
     "name": "stderr",
     "output_type": "stream",
     "text": [
      "2108it [04:36,  7.40it/s]"
     ]
    },
    {
     "name": "stdout",
     "output_type": "stream",
     "text": [
      "**, 590.3897845407428\n"
     ]
    },
    {
     "name": "stderr",
     "output_type": "stream",
     "text": [
      "2128it [04:39,  5.93it/s]"
     ]
    },
    {
     "name": "stdout",
     "output_type": "stream",
     "text": [
      "**, 590.3897845407428\n"
     ]
    },
    {
     "name": "stderr",
     "output_type": "stream",
     "text": [
      "2135it [04:40,  7.38it/s]"
     ]
    },
    {
     "name": "stdout",
     "output_type": "stream",
     "text": [
      "**, 590.3897845407428\n"
     ]
    },
    {
     "name": "stderr",
     "output_type": "stream",
     "text": [
      "2146it [04:42,  7.01it/s]"
     ]
    },
    {
     "name": "stdout",
     "output_type": "stream",
     "text": [
      "**, 590.3897845407428\n"
     ]
    },
    {
     "name": "stderr",
     "output_type": "stream",
     "text": [
      "2159it [04:43,  8.90it/s]"
     ]
    },
    {
     "name": "stdout",
     "output_type": "stream",
     "text": [
      "**, 590.3897845407428\n"
     ]
    },
    {
     "name": "stderr",
     "output_type": "stream",
     "text": [
      "2161it [04:44,  7.25it/s]"
     ]
    },
    {
     "name": "stdout",
     "output_type": "stream",
     "text": [
      "**, 590.3897845407428\n"
     ]
    },
    {
     "name": "stderr",
     "output_type": "stream",
     "text": [
      "2179it [04:46,  6.57it/s]"
     ]
    },
    {
     "name": "stdout",
     "output_type": "stream",
     "text": [
      "**, 590.3897845407428\n"
     ]
    },
    {
     "name": "stderr",
     "output_type": "stream",
     "text": [
      "2186it [04:48,  5.73it/s]"
     ]
    },
    {
     "name": "stdout",
     "output_type": "stream",
     "text": [
      "**, 590.3897845407428\n"
     ]
    },
    {
     "name": "stderr",
     "output_type": "stream",
     "text": [
      "2187it [04:48,  4.75it/s]"
     ]
    },
    {
     "name": "stdout",
     "output_type": "stream",
     "text": [
      "**, 590.3897845407428\n"
     ]
    },
    {
     "name": "stderr",
     "output_type": "stream",
     "text": [
      "2194it [04:49,  5.72it/s]"
     ]
    },
    {
     "name": "stdout",
     "output_type": "stream",
     "text": [
      "**, 590.3897845407428\n"
     ]
    },
    {
     "name": "stderr",
     "output_type": "stream",
     "text": [
      "2196it [04:50,  5.12it/s]"
     ]
    },
    {
     "name": "stdout",
     "output_type": "stream",
     "text": [
      "**, 590.3897845407428\n"
     ]
    },
    {
     "name": "stderr",
     "output_type": "stream",
     "text": [
      "2201it [04:51,  5.83it/s]"
     ]
    },
    {
     "name": "stdout",
     "output_type": "stream",
     "text": [
      "**, 590.3897845407428\n"
     ]
    },
    {
     "name": "stderr",
     "output_type": "stream",
     "text": [
      "2207it [04:52,  6.92it/s]"
     ]
    },
    {
     "name": "stdout",
     "output_type": "stream",
     "text": [
      "**, 590.3897845407428\n"
     ]
    },
    {
     "name": "stderr",
     "output_type": "stream",
     "text": [
      "2222it [04:54,  7.44it/s]"
     ]
    },
    {
     "name": "stdout",
     "output_type": "stream",
     "text": [
      "**, 590.3897845407428\n"
     ]
    },
    {
     "name": "stderr",
     "output_type": "stream",
     "text": [
      "2229it [04:55,  8.00it/s]"
     ]
    },
    {
     "name": "stdout",
     "output_type": "stream",
     "text": [
      "**, 590.3897845407428\n"
     ]
    },
    {
     "name": "stderr",
     "output_type": "stream",
     "text": [
      "2230it [04:55,  5.70it/s]"
     ]
    },
    {
     "name": "stdout",
     "output_type": "stream",
     "text": [
      "**, 590.3897845407428\n"
     ]
    },
    {
     "name": "stderr",
     "output_type": "stream",
     "text": [
      "2231it [04:56,  4.69it/s]"
     ]
    },
    {
     "name": "stdout",
     "output_type": "stream",
     "text": [
      "**, 590.3897845407428\n"
     ]
    },
    {
     "name": "stderr",
     "output_type": "stream",
     "text": [
      "2232it [04:56,  4.12it/s]"
     ]
    },
    {
     "name": "stdout",
     "output_type": "stream",
     "text": [
      "**, 590.3897845407428\n"
     ]
    },
    {
     "name": "stderr",
     "output_type": "stream",
     "text": [
      "2235it [04:56,  4.69it/s]"
     ]
    },
    {
     "name": "stdout",
     "output_type": "stream",
     "text": [
      "**, 590.3897845407428\n"
     ]
    },
    {
     "name": "stderr",
     "output_type": "stream",
     "text": [
      "2240it [04:58,  5.12it/s]"
     ]
    },
    {
     "name": "stdout",
     "output_type": "stream",
     "text": [
      "**, 590.3897845407428\n"
     ]
    },
    {
     "name": "stderr",
     "output_type": "stream",
     "text": [
      "2243it [04:58,  5.84it/s]"
     ]
    },
    {
     "name": "stdout",
     "output_type": "stream",
     "text": [
      "**, 590.3897845407428\n"
     ]
    },
    {
     "name": "stderr",
     "output_type": "stream",
     "text": [
      "2245it [04:59,  4.59it/s]"
     ]
    },
    {
     "name": "stdout",
     "output_type": "stream",
     "text": [
      "**, 590.3897845407428\n"
     ]
    },
    {
     "name": "stderr",
     "output_type": "stream",
     "text": [
      "2246it [04:59,  4.09it/s]"
     ]
    },
    {
     "name": "stdout",
     "output_type": "stream",
     "text": [
      "**, 590.3897845407428\n"
     ]
    },
    {
     "name": "stderr",
     "output_type": "stream",
     "text": [
      "2258it [05:01,  7.37it/s]"
     ]
    },
    {
     "name": "stdout",
     "output_type": "stream",
     "text": [
      "**, 590.3897845407428\n"
     ]
    },
    {
     "name": "stderr",
     "output_type": "stream",
     "text": [
      "2264it [05:02,  6.38it/s]"
     ]
    },
    {
     "name": "stdout",
     "output_type": "stream",
     "text": [
      "**, 590.3897845407428\n"
     ]
    },
    {
     "name": "stderr",
     "output_type": "stream",
     "text": [
      "2270it [05:03,  5.46it/s]"
     ]
    },
    {
     "name": "stdout",
     "output_type": "stream",
     "text": [
      "**, 590.3897845407428\n"
     ]
    },
    {
     "name": "stderr",
     "output_type": "stream",
     "text": [
      "2271it [05:03,  4.61it/s]"
     ]
    },
    {
     "name": "stdout",
     "output_type": "stream",
     "text": [
      "**, 590.3897845407428\n"
     ]
    },
    {
     "name": "stderr",
     "output_type": "stream",
     "text": [
      "2273it [05:04,  3.96it/s]"
     ]
    },
    {
     "name": "stdout",
     "output_type": "stream",
     "text": [
      "**, 590.3897845407428\n"
     ]
    },
    {
     "name": "stderr",
     "output_type": "stream",
     "text": [
      "2278it [05:05,  5.70it/s]"
     ]
    },
    {
     "name": "stdout",
     "output_type": "stream",
     "text": [
      "**, 590.3897845407428\n"
     ]
    },
    {
     "name": "stderr",
     "output_type": "stream",
     "text": [
      "2283it [05:06,  5.63it/s]"
     ]
    },
    {
     "name": "stdout",
     "output_type": "stream",
     "text": [
      "**, 590.3897845407428\n"
     ]
    },
    {
     "name": "stderr",
     "output_type": "stream",
     "text": [
      "2292it [05:07,  6.14it/s]"
     ]
    },
    {
     "name": "stdout",
     "output_type": "stream",
     "text": [
      "**, 590.3897845407428\n"
     ]
    },
    {
     "name": "stderr",
     "output_type": "stream",
     "text": [
      "2295it [05:08,  5.85it/s]"
     ]
    },
    {
     "name": "stdout",
     "output_type": "stream",
     "text": [
      "**, 590.3897845407428\n"
     ]
    },
    {
     "name": "stderr",
     "output_type": "stream",
     "text": [
      "2298it [05:09,  4.31it/s]"
     ]
    },
    {
     "name": "stdout",
     "output_type": "stream",
     "text": [
      "**, 590.3897845407428\n"
     ]
    },
    {
     "name": "stderr",
     "output_type": "stream",
     "text": [
      "2306it [05:10,  5.45it/s]"
     ]
    },
    {
     "name": "stdout",
     "output_type": "stream",
     "text": [
      "**, 590.3897845407428\n"
     ]
    },
    {
     "name": "stderr",
     "output_type": "stream",
     "text": [
      "2312it [05:11,  5.35it/s]"
     ]
    },
    {
     "name": "stdout",
     "output_type": "stream",
     "text": [
      "**, 590.3897845407428\n"
     ]
    },
    {
     "name": "stderr",
     "output_type": "stream",
     "text": [
      "2314it [05:12,  4.50it/s]"
     ]
    },
    {
     "name": "stdout",
     "output_type": "stream",
     "text": [
      "**, 590.3897845407428\n"
     ]
    },
    {
     "name": "stderr",
     "output_type": "stream",
     "text": [
      "2316it [05:13,  3.44it/s]"
     ]
    },
    {
     "name": "stdout",
     "output_type": "stream",
     "text": [
      "**, 590.3897845407428\n"
     ]
    },
    {
     "name": "stderr",
     "output_type": "stream",
     "text": [
      "2322it [05:14,  5.31it/s]"
     ]
    },
    {
     "name": "stdout",
     "output_type": "stream",
     "text": [
      "**, 590.3897845407428\n"
     ]
    },
    {
     "name": "stderr",
     "output_type": "stream",
     "text": [
      "2330it [05:15,  5.73it/s]"
     ]
    },
    {
     "name": "stdout",
     "output_type": "stream",
     "text": [
      "**, 590.3897845407428\n"
     ]
    },
    {
     "name": "stderr",
     "output_type": "stream",
     "text": [
      "2332it [05:16,  5.26it/s]"
     ]
    },
    {
     "name": "stdout",
     "output_type": "stream",
     "text": [
      "**, 590.3897845407428\n"
     ]
    },
    {
     "name": "stderr",
     "output_type": "stream",
     "text": [
      "2348it [05:18,  8.19it/s]"
     ]
    },
    {
     "name": "stdout",
     "output_type": "stream",
     "text": [
      "**, 590.3897845407428\n"
     ]
    },
    {
     "name": "stderr",
     "output_type": "stream",
     "text": [
      "2351it [05:19,  6.97it/s]"
     ]
    },
    {
     "name": "stdout",
     "output_type": "stream",
     "text": [
      "**, 590.3897845407428\n"
     ]
    },
    {
     "name": "stderr",
     "output_type": "stream",
     "text": [
      "2353it [05:19,  5.76it/s]"
     ]
    },
    {
     "name": "stdout",
     "output_type": "stream",
     "text": [
      "**, 590.3897845407428\n"
     ]
    },
    {
     "name": "stderr",
     "output_type": "stream",
     "text": [
      "2354it [05:19,  4.70it/s]"
     ]
    },
    {
     "name": "stdout",
     "output_type": "stream",
     "text": [
      "**, 590.3897845407428\n"
     ]
    },
    {
     "name": "stderr",
     "output_type": "stream",
     "text": [
      "2355it [05:20,  4.19it/s]"
     ]
    },
    {
     "name": "stdout",
     "output_type": "stream",
     "text": [
      "**, 590.3897845407428\n"
     ]
    },
    {
     "name": "stderr",
     "output_type": "stream",
     "text": [
      "2357it [05:20,  4.51it/s]"
     ]
    },
    {
     "name": "stdout",
     "output_type": "stream",
     "text": [
      "**, 590.3897845407428\n"
     ]
    },
    {
     "name": "stderr",
     "output_type": "stream",
     "text": [
      "2361it [05:21,  4.90it/s]"
     ]
    },
    {
     "name": "stdout",
     "output_type": "stream",
     "text": [
      "**, 590.3897845407428\n"
     ]
    },
    {
     "name": "stderr",
     "output_type": "stream",
     "text": [
      "2363it [05:22,  4.17it/s]"
     ]
    },
    {
     "name": "stdout",
     "output_type": "stream",
     "text": [
      "**, 590.3897845407428\n"
     ]
    },
    {
     "name": "stderr",
     "output_type": "stream",
     "text": [
      "2364it [05:22,  3.73it/s]"
     ]
    },
    {
     "name": "stdout",
     "output_type": "stream",
     "text": [
      "**, 590.3897845407428\n"
     ]
    },
    {
     "name": "stderr",
     "output_type": "stream",
     "text": [
      "2365it [05:22,  3.49it/s]"
     ]
    },
    {
     "name": "stdout",
     "output_type": "stream",
     "text": [
      "**, 590.3897845407428\n"
     ]
    },
    {
     "name": "stderr",
     "output_type": "stream",
     "text": [
      "2366it [05:23,  3.35it/s]"
     ]
    },
    {
     "name": "stdout",
     "output_type": "stream",
     "text": [
      "**, 590.3897845407428\n"
     ]
    },
    {
     "name": "stderr",
     "output_type": "stream",
     "text": [
      "2367it [05:23,  3.30it/s]"
     ]
    },
    {
     "name": "stdout",
     "output_type": "stream",
     "text": [
      "**, 590.3897845407428\n"
     ]
    },
    {
     "name": "stderr",
     "output_type": "stream",
     "text": [
      "2375it [05:24,  6.80it/s]"
     ]
    },
    {
     "name": "stdout",
     "output_type": "stream",
     "text": [
      "**, 590.3897845407428\n"
     ]
    },
    {
     "name": "stderr",
     "output_type": "stream",
     "text": [
      "2377it [05:25,  5.53it/s]"
     ]
    },
    {
     "name": "stdout",
     "output_type": "stream",
     "text": [
      "**, 590.3897845407428\n"
     ]
    },
    {
     "name": "stderr",
     "output_type": "stream",
     "text": [
      "2379it [05:25,  3.88it/s]"
     ]
    },
    {
     "name": "stdout",
     "output_type": "stream",
     "text": [
      "**, 590.3897845407428\n"
     ]
    },
    {
     "name": "stderr",
     "output_type": "stream",
     "text": [
      "2380it [05:26,  3.51it/s]"
     ]
    },
    {
     "name": "stdout",
     "output_type": "stream",
     "text": [
      "**, 590.3897845407428\n"
     ]
    },
    {
     "name": "stderr",
     "output_type": "stream",
     "text": [
      "2382it [05:26,  4.00it/s]"
     ]
    },
    {
     "name": "stdout",
     "output_type": "stream",
     "text": [
      "**, 590.3897845407428\n"
     ]
    },
    {
     "name": "stderr",
     "output_type": "stream",
     "text": [
      "2383it [05:26,  3.64it/s]"
     ]
    },
    {
     "name": "stdout",
     "output_type": "stream",
     "text": [
      "**, 590.3897845407428\n"
     ]
    },
    {
     "name": "stderr",
     "output_type": "stream",
     "text": [
      "2384it [05:27,  3.23it/s]"
     ]
    },
    {
     "name": "stdout",
     "output_type": "stream",
     "text": [
      "**, 590.3897845407428\n"
     ]
    },
    {
     "name": "stderr",
     "output_type": "stream",
     "text": [
      "2392it [05:28,  5.84it/s]"
     ]
    },
    {
     "name": "stdout",
     "output_type": "stream",
     "text": [
      "**, 590.3897845407428\n"
     ]
    },
    {
     "name": "stderr",
     "output_type": "stream",
     "text": [
      "2394it [05:29,  5.39it/s]"
     ]
    },
    {
     "name": "stdout",
     "output_type": "stream",
     "text": [
      "**, 590.3897845407428\n"
     ]
    },
    {
     "name": "stderr",
     "output_type": "stream",
     "text": [
      "2398it [05:30,  5.71it/s]"
     ]
    },
    {
     "name": "stdout",
     "output_type": "stream",
     "text": [
      "**, 590.3897845407428\n"
     ]
    },
    {
     "name": "stderr",
     "output_type": "stream",
     "text": [
      "2401it [05:30,  5.74it/s]"
     ]
    },
    {
     "name": "stdout",
     "output_type": "stream",
     "text": [
      "**, 590.3897845407428\n"
     ]
    },
    {
     "name": "stderr",
     "output_type": "stream",
     "text": [
      "2403it [05:31,  4.64it/s]"
     ]
    },
    {
     "name": "stdout",
     "output_type": "stream",
     "text": [
      "**, 590.3897845407428\n"
     ]
    },
    {
     "name": "stderr",
     "output_type": "stream",
     "text": [
      "2404it [05:31,  4.11it/s]"
     ]
    },
    {
     "name": "stdout",
     "output_type": "stream",
     "text": [
      "**, 590.3897845407428\n"
     ]
    },
    {
     "name": "stderr",
     "output_type": "stream",
     "text": [
      "2405it [05:31,  3.75it/s]"
     ]
    },
    {
     "name": "stdout",
     "output_type": "stream",
     "text": [
      "**, 590.3897845407428\n"
     ]
    },
    {
     "name": "stderr",
     "output_type": "stream",
     "text": [
      "2408it [05:32,  5.16it/s]"
     ]
    },
    {
     "name": "stdout",
     "output_type": "stream",
     "text": [
      "**, 590.3897845407428\n"
     ]
    },
    {
     "name": "stderr",
     "output_type": "stream",
     "text": [
      "2411it [05:32,  5.14it/s]"
     ]
    },
    {
     "name": "stdout",
     "output_type": "stream",
     "text": [
      "**, 590.3897845407428\n"
     ]
    },
    {
     "name": "stderr",
     "output_type": "stream",
     "text": [
      "2414it [05:33,  5.47it/s]"
     ]
    },
    {
     "name": "stdout",
     "output_type": "stream",
     "text": [
      "**, 590.3897845407428\n"
     ]
    },
    {
     "name": "stderr",
     "output_type": "stream",
     "text": [
      "2422it [05:34,  8.46it/s]"
     ]
    },
    {
     "name": "stdout",
     "output_type": "stream",
     "text": [
      "**, 590.3897845407428\n"
     ]
    },
    {
     "name": "stderr",
     "output_type": "stream",
     "text": [
      "2425it [05:35,  4.34it/s]"
     ]
    },
    {
     "name": "stdout",
     "output_type": "stream",
     "text": [
      "**, 590.3897845407428\n"
     ]
    },
    {
     "name": "stderr",
     "output_type": "stream",
     "text": [
      "2434it [05:37,  5.81it/s]"
     ]
    },
    {
     "name": "stdout",
     "output_type": "stream",
     "text": [
      "**, 590.3897845407428\n"
     ]
    },
    {
     "name": "stderr",
     "output_type": "stream",
     "text": [
      "2436it [05:37,  5.61it/s]"
     ]
    },
    {
     "name": "stdout",
     "output_type": "stream",
     "text": [
      "**, 590.3897845407428\n"
     ]
    },
    {
     "name": "stderr",
     "output_type": "stream",
     "text": [
      "2439it [05:38,  4.64it/s]"
     ]
    },
    {
     "name": "stdout",
     "output_type": "stream",
     "text": [
      "**, 590.3897845407428\n"
     ]
    },
    {
     "name": "stderr",
     "output_type": "stream",
     "text": [
      "2440it [05:38,  3.85it/s]"
     ]
    },
    {
     "name": "stdout",
     "output_type": "stream",
     "text": [
      "**, 590.3897845407428\n"
     ]
    },
    {
     "name": "stderr",
     "output_type": "stream",
     "text": [
      "2441it [05:39,  3.65it/s]"
     ]
    },
    {
     "name": "stdout",
     "output_type": "stream",
     "text": [
      "**, 590.3897845407428\n"
     ]
    },
    {
     "name": "stderr",
     "output_type": "stream",
     "text": [
      "2446it [05:40,  4.60it/s]"
     ]
    },
    {
     "name": "stdout",
     "output_type": "stream",
     "text": [
      "**, 590.3897845407428\n"
     ]
    },
    {
     "name": "stderr",
     "output_type": "stream",
     "text": [
      "2452it [05:41,  4.46it/s]"
     ]
    },
    {
     "name": "stdout",
     "output_type": "stream",
     "text": [
      "**, 590.3897845407428\n"
     ]
    },
    {
     "name": "stderr",
     "output_type": "stream",
     "text": [
      "2455it [05:42,  5.01it/s]"
     ]
    },
    {
     "name": "stdout",
     "output_type": "stream",
     "text": [
      "**, 590.3897845407428\n"
     ]
    },
    {
     "name": "stderr",
     "output_type": "stream",
     "text": [
      "2457it [05:42,  4.79it/s]"
     ]
    },
    {
     "name": "stdout",
     "output_type": "stream",
     "text": [
      "**, 590.3897845407428\n"
     ]
    },
    {
     "name": "stderr",
     "output_type": "stream",
     "text": [
      "2462it [05:43,  4.83it/s]"
     ]
    },
    {
     "name": "stdout",
     "output_type": "stream",
     "text": [
      "**, 590.3897845407428\n"
     ]
    },
    {
     "name": "stderr",
     "output_type": "stream",
     "text": [
      "2463it [05:44,  4.14it/s]"
     ]
    },
    {
     "name": "stdout",
     "output_type": "stream",
     "text": [
      "**, 590.3897845407428\n"
     ]
    },
    {
     "name": "stderr",
     "output_type": "stream",
     "text": [
      "2468it [05:44,  6.41it/s]"
     ]
    },
    {
     "name": "stdout",
     "output_type": "stream",
     "text": [
      "**, 590.3897845407428\n"
     ]
    },
    {
     "name": "stderr",
     "output_type": "stream",
     "text": [
      "2470it [05:45,  4.71it/s]"
     ]
    },
    {
     "name": "stdout",
     "output_type": "stream",
     "text": [
      "**, 590.3897845407428\n"
     ]
    },
    {
     "name": "stderr",
     "output_type": "stream",
     "text": [
      "2471it [05:45,  4.08it/s]"
     ]
    },
    {
     "name": "stdout",
     "output_type": "stream",
     "text": [
      "**, 590.3897845407428\n"
     ]
    },
    {
     "name": "stderr",
     "output_type": "stream",
     "text": [
      "2472it [05:46,  3.64it/s]"
     ]
    },
    {
     "name": "stdout",
     "output_type": "stream",
     "text": [
      "**, 590.3897845407428\n"
     ]
    },
    {
     "name": "stderr",
     "output_type": "stream",
     "text": [
      "2474it [05:46,  3.80it/s]"
     ]
    },
    {
     "name": "stdout",
     "output_type": "stream",
     "text": [
      "**, 590.3897845407428\n"
     ]
    },
    {
     "name": "stderr",
     "output_type": "stream",
     "text": [
      "2480it [05:47,  5.24it/s]"
     ]
    },
    {
     "name": "stdout",
     "output_type": "stream",
     "text": [
      "**, 590.3897845407428\n"
     ]
    },
    {
     "name": "stderr",
     "output_type": "stream",
     "text": [
      "2481it [05:48,  4.52it/s]"
     ]
    },
    {
     "name": "stdout",
     "output_type": "stream",
     "text": [
      "**, 590.3897845407428\n"
     ]
    },
    {
     "name": "stderr",
     "output_type": "stream",
     "text": [
      "2484it [05:48,  5.27it/s]"
     ]
    },
    {
     "name": "stdout",
     "output_type": "stream",
     "text": [
      "**, 590.3897845407428\n"
     ]
    },
    {
     "name": "stderr",
     "output_type": "stream",
     "text": [
      "2486it [05:49,  5.17it/s]"
     ]
    },
    {
     "name": "stdout",
     "output_type": "stream",
     "text": [
      "**, 590.3897845407428\n"
     ]
    },
    {
     "name": "stderr",
     "output_type": "stream",
     "text": [
      "2492it [05:50,  6.34it/s]"
     ]
    },
    {
     "name": "stdout",
     "output_type": "stream",
     "text": [
      "**, 590.3897845407428\n"
     ]
    },
    {
     "name": "stderr",
     "output_type": "stream",
     "text": [
      "2493it [05:50,  5.13it/s]"
     ]
    },
    {
     "name": "stdout",
     "output_type": "stream",
     "text": [
      "**, 590.3897845407428\n"
     ]
    },
    {
     "name": "stderr",
     "output_type": "stream",
     "text": [
      "2495it [05:51,  3.99it/s]"
     ]
    },
    {
     "name": "stdout",
     "output_type": "stream",
     "text": [
      "**, 590.3897845407428\n"
     ]
    },
    {
     "name": "stderr",
     "output_type": "stream",
     "text": [
      "2496it [05:51,  3.76it/s]"
     ]
    },
    {
     "name": "stdout",
     "output_type": "stream",
     "text": [
      "**, 590.3897845407428\n"
     ]
    },
    {
     "name": "stderr",
     "output_type": "stream",
     "text": [
      "2497it [05:51,  3.60it/s]"
     ]
    },
    {
     "name": "stdout",
     "output_type": "stream",
     "text": [
      "**, 590.3897845407428\n"
     ]
    },
    {
     "name": "stderr",
     "output_type": "stream",
     "text": [
      "2500it [05:52,  7.09it/s]"
     ]
    },
    {
     "name": "stdout",
     "output_type": "stream",
     "text": [
      "remaining stubs: 132\n",
      "cache hits: 0\n",
      "16980 null model calculated\n"
     ]
    },
    {
     "name": "stderr",
     "output_type": "stream",
     "text": [
      "\n"
     ]
    }
   ],
   "source": [
    "### Null model\n",
    "gdf_edges_null_filename = get_filename_CM_edges(\n",
    "    cbsacode,\n",
    "    distance_type,\n",
    "    filter_by_density,\n",
    "    random_seed   \n",
    ")\n",
    "\n",
    "err_logs_filename = get_filename_CM_logs(\n",
    "    cbsacode,\n",
    "    distance_type,\n",
    "    filter_by_density,\n",
    "    random_seed\n",
    ")\n",
    "\n",
    "try:\n",
    "\n",
    "    gdf_edges_null = gpd.read_parquet(gdf_edges_null_filename)\n",
    "    \n",
    "    with open(err_logs_filename, 'rb') as handle:\n",
    "        err_logs = pickle.load(handle)\n",
    "    \n",
    "    dist_error_log = err_logs['dist_error_log']\n",
    "    dist_error_perc_log = err_logs['dist_error_perc_log']\n",
    "    tolerance_log = err_logs['tolerance_log']\n",
    "    print(f'{cbsacode} null model loaded from file', flush=True)\n",
    "\n",
    "except:\n",
    "\n",
    "    print(f'{cbsacode} computing null model from scratch', flush=True)\n",
    "    res = configuration_model_spatial_constraint(\n",
    "        gdf_edges, \n",
    "        gdf_nodes, \n",
    "        G, \n",
    "        G_igraph, \n",
    "        gdf_nodes_city, \n",
    "        cbsacode, \n",
    "        city_boundaries = city_boundaries,\n",
    "        distance_type=distance_type, \n",
    "        filter_by_density=filter_by_density, \n",
    "        calculate_walking_on_selected = False, \n",
    "        undirected=is_undirected,\n",
    "        test_mode=False, \n",
    "        random_seed=random_seed\n",
    "        )\n",
    "    \n",
    "    gdf_edges_null, dist_error_log, dist_error_perc_log, tolerance_log = res\n",
    "    print(f'{cbsacode} null model calculated', flush=True)\n",
    "\n",
    "if distance_type == 'beeline':\n",
    "    gdf_edges_null['distance_walking_m'] = 0\n",
    "    gdf_edges_null['geometry_walking'] = 0"
   ]
  },
  {
   "cell_type": "code",
   "execution_count": 13,
   "metadata": {},
   "outputs": [
    {
     "name": "stdout",
     "output_type": "stream",
     "text": [
      "Real social graph: N=[997], E=2500 | Null social graph: E=2374\n",
      "16980 sequence test: {'indegree': KstestResult(statistic=0.029855012792988855, pvalue=0.788821185181196, statistic_location=3, statistic_sign=-1), 'outdegree': KstestResult(statistic=0.03566310673031303, pvalue=0.591564787116244, statistic_location=2, statistic_sign=-1)}\n",
      "16980 error test: {'error_meters': (97.62246621621621, 73.0), 'error_perc': (0.001359200014965422, 0.0009961483576637741), 'error_tolerance': (nan, nan)}\n",
      "16980 distance test: {'beeline': KstestResult(statistic=0.0029486099410278013, pvalue=0.9999999999999998, statistic_location=95277, statistic_sign=-1)}\n"
     ]
    },
    {
     "data": {
      "image/png": "[encoded data removed]",
      "text/plain": [
       "<Figure size 1500x500 with 2 Axes>"
      ]
     },
     "metadata": {},
     "output_type": "display_data"
    },
    {
     "data": {
      "image/png": "[encoded data removed]",
      "text/plain": [
       "<Figure size 1500x400 with 3 Axes>"
      ]
     },
     "metadata": {},
     "output_type": "display_data"
    },
    {
     "data": {
      "image/png": "[encoded data removed]",
      "text/plain": [
       "<Figure size 1500x500 with 1 Axes>"
      ]
     },
     "metadata": {},
     "output_type": "display_data"
    }
   ],
   "source": [
    "#### Sanity checks for null model\n",
    "\n",
    "outfolder_plots = \"../plots/\"\n",
    "\n",
    "print(f'Real social graph: N={[len(gdf_nodes)]}, E={len(gdf_edges)} | Null social graph: E={len(gdf_edges_null)}', flush=True)\n",
    "\n",
    "sequence_test = sanity_degree_sequence(\n",
    "    gdf_edges, \n",
    "    gdf_edges_null, \n",
    "    cbsacode, \n",
    "    plot=True, \n",
    "    save=not os.path.exists(outfolder_plots + f\"{cbsacode}_sanity1.png\"), \n",
    "    outfolder_plots=outfolder_plots\n",
    "    )\n",
    "print(f'{cbsacode} sequence test: {sequence_test}', flush=True)\n",
    "\n",
    "errors_test = sanity_errors(\n",
    "    dist_error_log, \n",
    "    dist_error_perc_log, \n",
    "    tolerance_log, \n",
    "    cbsacode,\n",
    "    plot=True, \n",
    "    save=not os.path.exists(outfolder_plots + f\"{cbsacode}_sanity2.png\"), \n",
    "    outfolder_plots=outfolder_plots    \n",
    "    )\n",
    "print(f'{cbsacode} error test: {errors_test}', flush=True)\n",
    "\n",
    "distance_test = sanity_distance_distribution(\n",
    "    gdf_edges_null, \n",
    "    cbsacode,\n",
    "    plot=True, \n",
    "    save=not os.path.exists(outfolder_plots + f\"{cbsacode}_sanity3.png\"), \n",
    "    outfolder_plots=outfolder_plots\n",
    "    )\n",
    "print(f'{cbsacode} distance test: {distance_test}', flush=True)"
   ]
  },
  {
   "cell_type": "code",
   "execution_count": 14,
   "metadata": {},
   "outputs": [],
   "source": [
    "def plot_street_network(\n",
    "        gdf_edges_city, \n",
    "        cbsacode, \n",
    "        outfolder_plots = \"../plots/\"\n",
    "    ):\n",
    "    \n",
    "    # plotting the street network\n",
    "    street_types = ['motorway', 'trunk', 'primary', 'secondary', 'tertiary', 'residential']\n",
    "    colors = ['#C33478', '#C33478', '#CF6F3B', '#90b7f2', '#90b7f2', 'gray']\n",
    "    width = [3, 3, 2, 0.8, 0.8, 0.3]\n",
    "    alpha = [0.5, 0.5, 0.5, 0.5, 0.5, 0.2]\n",
    "    i = len(street_types)\n",
    "    fig, ax = plt.subplots(1,1, figsize=(15,15))\n",
    "    for street_type, c , w, a  in zip(street_types, colors, width, alpha):\n",
    "        df_selection = gdf_edges_city[gdf_edges_city['highway']==street_type]\n",
    "        if len(df_selection)>0: # plot street types if they exist \n",
    "            df_selection = gpd.GeoDataFrame(df_selection, geometry=df_selection['geometry'], crs='epsg:4326')\n",
    "            df_selection.plot(lw=w, color=c, alpha=a, ax=ax, label=street_type, zorder = i)\n",
    "            i -= 1\n",
    "    fig.patch.set_facecolor('#f3ebd5')\n",
    "    ax.legend()\n",
    "    #gdf_nodes_bb.plot(markersize=2, color='yellow', alpha=0.3, ax=ax)\n",
    "    #gdf_edges.plot(lw=0.1, color='white', alpha=0.1, ax=ax)\n",
    "    ax.axis('off')\n",
    "    plt.tight_layout()\n",
    "    plt.savefig(outfolder_plots + f'{cbsacode}_streetmap.png', dpi=800)\n"
   ]
  },
  {
   "cell_type": "code",
   "execution_count": 15,
   "metadata": {},
   "outputs": [
    {
     "data": {
      "image/png": "[encoded data removed]",
      "text/plain": [
       "<Figure size 1500x1500 with 1 Axes>"
      ]
     },
     "metadata": {},
     "output_type": "display_data"
    }
   ],
   "source": [
    "### Social-spatial intersection\n",
    "plot_street_network(gdf_edges_city, cbsacode)"
   ]
  },
  {
   "cell_type": "code",
   "execution_count": 16,
   "metadata": {},
   "outputs": [],
   "source": [
    "gdf_edges_city_copy = gdf_edges_city.copy()\n",
    "gdf_edges_city = gdf_edges_city.reset_index()"
   ]
  },
  {
   "cell_type": "code",
   "execution_count": 17,
   "metadata": {},
   "outputs": [
    {
     "name": "stdout",
     "output_type": "stream",
     "text": [
      "not randomizing streets\n"
     ]
    }
   ],
   "source": [
    "if randomize_streets:\n",
    "\n",
    "    print(\"randomizing streets\")\n",
    "    \n",
    "    add_fields = ['u', 'v', 'key', 'osmid', 'maxspeed', 'oneway', 'reversed', 'length', 'lanes', \n",
    "                    'service', 'bridge', 'name', 'width', 'ref', 'access', 'tunnel', 'junction']\n",
    "    \n",
    "    # get the list of highway (motorway/trunk) street lengths\n",
    "    gdf_edges_city_motorway = gdf_edges_city[gdf_edges_city['highway'].isin(motorway_osm_labels)]\n",
    "    street_lengths = sorted(list(gdf_edges_city_motorway[\"length\"]))\n",
    "    \n",
    "    # randomize streets\n",
    "    random_streets, random_street_lengths = get_random_street_network(\n",
    "        G, \n",
    "        G_igraph, \n",
    "        gdf_nodes_city, \n",
    "        street_lengths\n",
    "        )\n",
    "    \n",
    "    gpd_random_streets = gpd.GeoDataFrame(\n",
    "        random_streets, \n",
    "        columns=['geometry'], \n",
    "        geometry=\"geometry\", \n",
    "        crs=\"epsg:4326\")\n",
    "    \n",
    "    # set empty fields to match the structure of the original gdf_edges_city\n",
    "    gpd_random_streets['highway'] = 'motorway'\n",
    "    for f in add_fields:\n",
    "        gpd_random_streets[f] = None\n",
    "    \n",
    "    print(f'original_length={sum(street_lengths)}, new_length={sum(gpd_random_streets[\"geometry\"].length)}', flush=True)\n",
    "    \n",
    "    gdf_edges_city = gpd_random_streets.copy()\n",
    "\n",
    "else:\n",
    "    print(\"not randomizing streets\")"
   ]
  },
  {
   "cell_type": "code",
   "execution_count": 18,
   "metadata": {},
   "outputs": [],
   "source": [
    "gdf, gdf_null = intersect_social_and_street(gdf_edges, gdf_edges_null, gdf_edges_city)"
   ]
  },
  {
   "cell_type": "code",
   "execution_count": 19,
   "metadata": {},
   "outputs": [
    {
     "name": "stdout",
     "output_type": "stream",
     "text": [
      "collating streets\n",
      "(16980) - socio-spatial intersections: real=31281, null=29660\n"
     ]
    }
   ],
   "source": [
    "# collate similar OSM street types\n",
    "print('collating streets', flush=True)\n",
    "\n",
    "gdf['highway'] = gdf.apply(\n",
    "    lambda x: collate_street_types(\n",
    "        x.highway, \n",
    "        motorway_osm_labels=motorway_osm_labels\n",
    "        ), \n",
    "    axis = 1\n",
    ")\n",
    "\n",
    "gdf_null['highway'] = gdf_null.apply(\n",
    "    lambda x: collate_street_types(\n",
    "        x.highway, \n",
    "        motorway_osm_labels=motorway_osm_labels\n",
    "        ), \n",
    "    axis = 1\n",
    ")\n",
    "\n",
    "print(f'({cbsacode}) - socio-spatial intersections: real={len(gdf)}, null={len(gdf_null)}', flush=True)\n",
    "d = gdf[['user_id1', 'user_id2', f'distance_beeline_m', f'distance_walking_m', 'highway']]\n",
    "d = d.groupby(['user_id1', 'user_id2', f'distance_beeline_m', f'distance_walking_m', 'highway']).size().unstack(fill_value=0)\n",
    "d = d.reset_index()\n",
    "d_null = gdf_null[['user_id1', 'user_id2', f'distance_beeline_m', f'distance_walking_m', 'highway']]\n",
    "d_null = d_null.groupby(['user_id1', 'user_id2', f'distance_beeline_m', f'distance_walking_m', 'highway']).size().unstack(fill_value=0)\n",
    "d_null = d_null.reset_index()"
   ]
  },
  {
   "cell_type": "code",
   "execution_count": 20,
   "metadata": {},
   "outputs": [
    {
     "name": "stdout",
     "output_type": "stream",
     "text": [
      "writing results\n",
      "16980 done!\n"
     ]
    }
   ],
   "source": [
    "print('writing results', flush=True)\n",
    "\n",
    "results = {'real': d, 'null': d_null}\n",
    "\n",
    "if distance_type == 'walking':\n",
    "    results_outfile_name = f'../results_walking/{cbsacode}_s{random_seed}'\n",
    "else:    \n",
    "    results_outfile_name = f'../results/{cbsacode}_s{random_seed}'\n",
    "\n",
    "if randomize_streets:\n",
    "    results_outfile_name+='_randstreet'\n",
    "\n",
    "results_outfile_name += f'_results.pickle'\n",
    "\n",
    "with open(results_outfile_name, 'wb') as fout:\n",
    "    pickle.dump(results, fout)\n",
    "\n",
    "print(f'{cbsacode} done!')"
   ]
  },
  {
   "cell_type": "markdown",
   "metadata": {},
   "source": [
    "### Calculate Barrier Scores"
   ]
  },
  {
   "cell_type": "code",
   "execution_count": 21,
   "metadata": {},
   "outputs": [
    {
     "name": "stdout",
     "output_type": "stream",
     "text": [
      "Barrier score for Chicago = -0.2252318679547481\n"
     ]
    },
    {
     "data": {
      "text/html": [
       "<div>\n",
       "<style scoped>\n",
       "    .dataframe tbody tr th:only-of-type {\n",
       "        vertical-align: middle;\n",
       "    }\n",
       "\n",
       "    .dataframe tbody tr th {\n",
       "        vertical-align: top;\n",
       "    }\n",
       "\n",
       "    .dataframe thead th {\n",
       "        text-align: right;\n",
       "    }\n",
       "</style>\n",
       "<table border=\"1\" class=\"dataframe\">\n",
       "  <thead>\n",
       "    <tr style=\"text-align: right;\">\n",
       "      <th></th>\n",
       "      <th>cbsacode</th>\n",
       "      <th>city_name</th>\n",
       "      <th>street_type</th>\n",
       "      <th>random_seed</th>\n",
       "      <th>bin</th>\n",
       "      <th>barrier_score</th>\n",
       "      <th>crossings_per_km_real</th>\n",
       "      <th>crossings_per_km_null</th>\n",
       "      <th>tot_length_real</th>\n",
       "      <th>tot_length_null</th>\n",
       "      <th>tot_crossings_real</th>\n",
       "      <th>tot_crossings_null</th>\n",
       "    </tr>\n",
       "  </thead>\n",
       "  <tbody>\n",
       "    <tr>\n",
       "      <th>0</th>\n",
       "      <td>16980</td>\n",
       "      <td>Chicago</td>\n",
       "      <td>motorway</td>\n",
       "      <td>42</td>\n",
       "      <td>0</td>\n",
       "      <td>NaN</td>\n",
       "      <td>NaN</td>\n",
       "      <td>NaN</td>\n",
       "      <td>0</td>\n",
       "      <td>0</td>\n",
       "      <td>0</td>\n",
       "      <td>0</td>\n",
       "    </tr>\n",
       "    <tr>\n",
       "      <th>1</th>\n",
       "      <td>16980</td>\n",
       "      <td>Chicago</td>\n",
       "      <td>motorway</td>\n",
       "      <td>42</td>\n",
       "      <td>500</td>\n",
       "      <td>NaN</td>\n",
       "      <td>NaN</td>\n",
       "      <td>NaN</td>\n",
       "      <td>0</td>\n",
       "      <td>0</td>\n",
       "      <td>0</td>\n",
       "      <td>0</td>\n",
       "    </tr>\n",
       "    <tr>\n",
       "      <th>2</th>\n",
       "      <td>16980</td>\n",
       "      <td>Chicago</td>\n",
       "      <td>motorway</td>\n",
       "      <td>42</td>\n",
       "      <td>1000</td>\n",
       "      <td>NaN</td>\n",
       "      <td>NaN</td>\n",
       "      <td>NaN</td>\n",
       "      <td>0</td>\n",
       "      <td>0</td>\n",
       "      <td>0</td>\n",
       "      <td>0</td>\n",
       "    </tr>\n",
       "    <tr>\n",
       "      <th>3</th>\n",
       "      <td>16980</td>\n",
       "      <td>Chicago</td>\n",
       "      <td>motorway</td>\n",
       "      <td>42</td>\n",
       "      <td>1500</td>\n",
       "      <td>NaN</td>\n",
       "      <td>NaN</td>\n",
       "      <td>NaN</td>\n",
       "      <td>0</td>\n",
       "      <td>0</td>\n",
       "      <td>0</td>\n",
       "      <td>0</td>\n",
       "    </tr>\n",
       "    <tr>\n",
       "      <th>4</th>\n",
       "      <td>16980</td>\n",
       "      <td>Chicago</td>\n",
       "      <td>motorway</td>\n",
       "      <td>42</td>\n",
       "      <td>2000</td>\n",
       "      <td>NaN</td>\n",
       "      <td>NaN</td>\n",
       "      <td>NaN</td>\n",
       "      <td>0</td>\n",
       "      <td>0</td>\n",
       "      <td>0</td>\n",
       "      <td>0</td>\n",
       "    </tr>\n",
       "    <tr>\n",
       "      <th>5</th>\n",
       "      <td>16980</td>\n",
       "      <td>Chicago</td>\n",
       "      <td>motorway</td>\n",
       "      <td>42</td>\n",
       "      <td>2500</td>\n",
       "      <td>NaN</td>\n",
       "      <td>NaN</td>\n",
       "      <td>NaN</td>\n",
       "      <td>0</td>\n",
       "      <td>0</td>\n",
       "      <td>0</td>\n",
       "      <td>0</td>\n",
       "    </tr>\n",
       "    <tr>\n",
       "      <th>6</th>\n",
       "      <td>16980</td>\n",
       "      <td>Chicago</td>\n",
       "      <td>motorway</td>\n",
       "      <td>42</td>\n",
       "      <td>3000</td>\n",
       "      <td>NaN</td>\n",
       "      <td>NaN</td>\n",
       "      <td>NaN</td>\n",
       "      <td>0</td>\n",
       "      <td>0</td>\n",
       "      <td>0</td>\n",
       "      <td>0</td>\n",
       "    </tr>\n",
       "    <tr>\n",
       "      <th>7</th>\n",
       "      <td>16980</td>\n",
       "      <td>Chicago</td>\n",
       "      <td>motorway</td>\n",
       "      <td>42</td>\n",
       "      <td>3500</td>\n",
       "      <td>NaN</td>\n",
       "      <td>NaN</td>\n",
       "      <td>NaN</td>\n",
       "      <td>0</td>\n",
       "      <td>0</td>\n",
       "      <td>0</td>\n",
       "      <td>0</td>\n",
       "    </tr>\n",
       "    <tr>\n",
       "      <th>8</th>\n",
       "      <td>16980</td>\n",
       "      <td>Chicago</td>\n",
       "      <td>motorway</td>\n",
       "      <td>42</td>\n",
       "      <td>4000</td>\n",
       "      <td>NaN</td>\n",
       "      <td>NaN</td>\n",
       "      <td>NaN</td>\n",
       "      <td>0</td>\n",
       "      <td>0</td>\n",
       "      <td>0</td>\n",
       "      <td>0</td>\n",
       "    </tr>\n",
       "    <tr>\n",
       "      <th>9</th>\n",
       "      <td>16980</td>\n",
       "      <td>Chicago</td>\n",
       "      <td>motorway</td>\n",
       "      <td>42</td>\n",
       "      <td>4500</td>\n",
       "      <td>NaN</td>\n",
       "      <td>NaN</td>\n",
       "      <td>NaN</td>\n",
       "      <td>0</td>\n",
       "      <td>0</td>\n",
       "      <td>0</td>\n",
       "      <td>0</td>\n",
       "    </tr>\n",
       "    <tr>\n",
       "      <th>10</th>\n",
       "      <td>16980</td>\n",
       "      <td>Chicago</td>\n",
       "      <td>motorway</td>\n",
       "      <td>42</td>\n",
       "      <td>5000</td>\n",
       "      <td>NaN</td>\n",
       "      <td>NaN</td>\n",
       "      <td>NaN</td>\n",
       "      <td>0</td>\n",
       "      <td>0</td>\n",
       "      <td>0</td>\n",
       "      <td>0</td>\n",
       "    </tr>\n",
       "    <tr>\n",
       "      <th>11</th>\n",
       "      <td>16980</td>\n",
       "      <td>Chicago</td>\n",
       "      <td>motorway</td>\n",
       "      <td>42</td>\n",
       "      <td>5500</td>\n",
       "      <td>NaN</td>\n",
       "      <td>0.720851</td>\n",
       "      <td>NaN</td>\n",
       "      <td>5549</td>\n",
       "      <td>0</td>\n",
       "      <td>4</td>\n",
       "      <td>0</td>\n",
       "    </tr>\n",
       "    <tr>\n",
       "      <th>12</th>\n",
       "      <td>16980</td>\n",
       "      <td>Chicago</td>\n",
       "      <td>motorway</td>\n",
       "      <td>42</td>\n",
       "      <td>6000</td>\n",
       "      <td>-0.378807</td>\n",
       "      <td>0.501966</td>\n",
       "      <td>0.311818</td>\n",
       "      <td>11953</td>\n",
       "      <td>6414</td>\n",
       "      <td>6</td>\n",
       "      <td>2</td>\n",
       "    </tr>\n",
       "    <tr>\n",
       "      <th>13</th>\n",
       "      <td>16980</td>\n",
       "      <td>Chicago</td>\n",
       "      <td>motorway</td>\n",
       "      <td>42</td>\n",
       "      <td>6500</td>\n",
       "      <td>-0.378807</td>\n",
       "      <td>0.501966</td>\n",
       "      <td>0.311818</td>\n",
       "      <td>11953</td>\n",
       "      <td>6414</td>\n",
       "      <td>6</td>\n",
       "      <td>2</td>\n",
       "    </tr>\n",
       "    <tr>\n",
       "      <th>14</th>\n",
       "      <td>16980</td>\n",
       "      <td>Chicago</td>\n",
       "      <td>motorway</td>\n",
       "      <td>42</td>\n",
       "      <td>7000</td>\n",
       "      <td>-0.378807</td>\n",
       "      <td>0.501966</td>\n",
       "      <td>0.311818</td>\n",
       "      <td>11953</td>\n",
       "      <td>6414</td>\n",
       "      <td>6</td>\n",
       "      <td>2</td>\n",
       "    </tr>\n",
       "    <tr>\n",
       "      <th>15</th>\n",
       "      <td>16980</td>\n",
       "      <td>Chicago</td>\n",
       "      <td>motorway</td>\n",
       "      <td>42</td>\n",
       "      <td>7500</td>\n",
       "      <td>-0.306120</td>\n",
       "      <td>0.405022</td>\n",
       "      <td>0.281037</td>\n",
       "      <td>19752</td>\n",
       "      <td>14233</td>\n",
       "      <td>8</td>\n",
       "      <td>4</td>\n",
       "    </tr>\n",
       "    <tr>\n",
       "      <th>16</th>\n",
       "      <td>16980</td>\n",
       "      <td>Chicago</td>\n",
       "      <td>motorway</td>\n",
       "      <td>42</td>\n",
       "      <td>8000</td>\n",
       "      <td>-0.111433</td>\n",
       "      <td>0.497902</td>\n",
       "      <td>0.442419</td>\n",
       "      <td>28118</td>\n",
       "      <td>22603</td>\n",
       "      <td>14</td>\n",
       "      <td>10</td>\n",
       "    </tr>\n",
       "    <tr>\n",
       "      <th>17</th>\n",
       "      <td>16980</td>\n",
       "      <td>Chicago</td>\n",
       "      <td>motorway</td>\n",
       "      <td>42</td>\n",
       "      <td>8500</td>\n",
       "      <td>-0.118279</td>\n",
       "      <td>0.434830</td>\n",
       "      <td>0.383399</td>\n",
       "      <td>36796</td>\n",
       "      <td>31299</td>\n",
       "      <td>16</td>\n",
       "      <td>12</td>\n",
       "    </tr>\n",
       "    <tr>\n",
       "      <th>18</th>\n",
       "      <td>16980</td>\n",
       "      <td>Chicago</td>\n",
       "      <td>motorway</td>\n",
       "      <td>42</td>\n",
       "      <td>9000</td>\n",
       "      <td>-0.118279</td>\n",
       "      <td>0.434830</td>\n",
       "      <td>0.383399</td>\n",
       "      <td>36796</td>\n",
       "      <td>31299</td>\n",
       "      <td>16</td>\n",
       "      <td>12</td>\n",
       "    </tr>\n",
       "    <tr>\n",
       "      <th>19</th>\n",
       "      <td>16980</td>\n",
       "      <td>Chicago</td>\n",
       "      <td>motorway</td>\n",
       "      <td>42</td>\n",
       "      <td>9500</td>\n",
       "      <td>-0.118279</td>\n",
       "      <td>0.434830</td>\n",
       "      <td>0.383399</td>\n",
       "      <td>36796</td>\n",
       "      <td>31299</td>\n",
       "      <td>16</td>\n",
       "      <td>12</td>\n",
       "    </tr>\n",
       "    <tr>\n",
       "      <th>20</th>\n",
       "      <td>16980</td>\n",
       "      <td>Chicago</td>\n",
       "      <td>motorway</td>\n",
       "      <td>42</td>\n",
       "      <td>10000</td>\n",
       "      <td>-0.118279</td>\n",
       "      <td>0.434830</td>\n",
       "      <td>0.383399</td>\n",
       "      <td>36796</td>\n",
       "      <td>31299</td>\n",
       "      <td>16</td>\n",
       "      <td>12</td>\n",
       "    </tr>\n",
       "  </tbody>\n",
       "</table>\n",
       "</div>"
      ],
      "text/plain": [
       "    cbsacode city_name street_type  random_seed    bin  barrier_score  \\\n",
       "0      16980   Chicago    motorway           42      0            NaN   \n",
       "1      16980   Chicago    motorway           42    500            NaN   \n",
       "2      16980   Chicago    motorway           42   1000            NaN   \n",
       "3      16980   Chicago    motorway           42   1500            NaN   \n",
       "4      16980   Chicago    motorway           42   2000            NaN   \n",
       "5      16980   Chicago    motorway           42   2500            NaN   \n",
       "6      16980   Chicago    motorway           42   3000            NaN   \n",
       "7      16980   Chicago    motorway           42   3500            NaN   \n",
       "8      16980   Chicago    motorway           42   4000            NaN   \n",
       "9      16980   Chicago    motorway           42   4500            NaN   \n",
       "10     16980   Chicago    motorway           42   5000            NaN   \n",
       "11     16980   Chicago    motorway           42   5500            NaN   \n",
       "12     16980   Chicago    motorway           42   6000      -0.378807   \n",
       "13     16980   Chicago    motorway           42   6500      -0.378807   \n",
       "14     16980   Chicago    motorway           42   7000      -0.378807   \n",
       "15     16980   Chicago    motorway           42   7500      -0.306120   \n",
       "16     16980   Chicago    motorway           42   8000      -0.111433   \n",
       "17     16980   Chicago    motorway           42   8500      -0.118279   \n",
       "18     16980   Chicago    motorway           42   9000      -0.118279   \n",
       "19     16980   Chicago    motorway           42   9500      -0.118279   \n",
       "20     16980   Chicago    motorway           42  10000      -0.118279   \n",
       "\n",
       "    crossings_per_km_real  crossings_per_km_null  tot_length_real  \\\n",
       "0                     NaN                    NaN                0   \n",
       "1                     NaN                    NaN                0   \n",
       "2                     NaN                    NaN                0   \n",
       "3                     NaN                    NaN                0   \n",
       "4                     NaN                    NaN                0   \n",
       "5                     NaN                    NaN                0   \n",
       "6                     NaN                    NaN                0   \n",
       "7                     NaN                    NaN                0   \n",
       "8                     NaN                    NaN                0   \n",
       "9                     NaN                    NaN                0   \n",
       "10                    NaN                    NaN                0   \n",
       "11               0.720851                    NaN             5549   \n",
       "12               0.501966               0.311818            11953   \n",
       "13               0.501966               0.311818            11953   \n",
       "14               0.501966               0.311818            11953   \n",
       "15               0.405022               0.281037            19752   \n",
       "16               0.497902               0.442419            28118   \n",
       "17               0.434830               0.383399            36796   \n",
       "18               0.434830               0.383399            36796   \n",
       "19               0.434830               0.383399            36796   \n",
       "20               0.434830               0.383399            36796   \n",
       "\n",
       "    tot_length_null  tot_crossings_real  tot_crossings_null  \n",
       "0                 0                   0                   0  \n",
       "1                 0                   0                   0  \n",
       "2                 0                   0                   0  \n",
       "3                 0                   0                   0  \n",
       "4                 0                   0                   0  \n",
       "5                 0                   0                   0  \n",
       "6                 0                   0                   0  \n",
       "7                 0                   0                   0  \n",
       "8                 0                   0                   0  \n",
       "9                 0                   0                   0  \n",
       "10                0                   0                   0  \n",
       "11                0                   4                   0  \n",
       "12             6414                   6                   2  \n",
       "13             6414                   6                   2  \n",
       "14             6414                   6                   2  \n",
       "15            14233                   8                   4  \n",
       "16            22603                  14                  10  \n",
       "17            31299                  16                  12  \n",
       "18            31299                  16                  12  \n",
       "19            31299                  16                  12  \n",
       "20            31299                  16                  12  "
      ]
     },
     "execution_count": 21,
     "metadata": {},
     "output_type": "execute_result"
    }
   ],
   "source": [
    "binning_d = 500 #width of the social tie length bin (meters)\n",
    "maxlength_m = 10000 #offset of the last bin to consider (meters)\n",
    "street_type = 'motorway'\n",
    "\n",
    "# get results of the real and null model\n",
    "df_res = None\n",
    "df_res_null = None\n",
    "with open(f'../results/{cbsacode}_s{random_seed}_results.pickle','rb') as fin:\n",
    "    results = pickle.load(fin)\n",
    "    df_res = results['real']\n",
    "    df_res_null = results['null']\n",
    "\n",
    "# discount values by distance\n",
    "df_res[f'{street_type}_per_km'] = (df_res[street_type] / df_res[f'distance_beeline_m']) * 1000\n",
    "df_res_null[f'{street_type}_per_km'] = (df_res_null[street_type] / df_res_null[f'distance_beeline_m']) * 1000\n",
    "df_res = df_res[['user_id1', 'user_id2', 'distance_beeline_m', 'motorway']]\n",
    "df_res_null = df_res_null[['user_id1', 'user_id2', 'distance_beeline_m', 'motorway']]\n",
    "\n",
    "# calculate the barrier score per bin\n",
    "res_per_km = []\n",
    "for rng in range(binning_d, maxlength_m+binning_d+1, binning_d):\n",
    "    df_res_rng = df_res[df_res['distance_beeline_m'] <= rng] \n",
    "    df_res_rng_null = df_res_null[df_res_null['distance_beeline_m'] <= rng]\n",
    "    tot_crossings_real = df_res_rng[f'{street_type}'].sum()\n",
    "    tot_length_real = df_res_rng['distance_beeline_m'].sum()\n",
    "    tot_crossings_null = df_res_rng_null[f'{street_type}'].sum()\n",
    "    tot_length_null = df_res_rng_null['distance_beeline_m'].sum()\n",
    "    per_km_real_grand_avg = (tot_crossings_real / tot_length_real) * 1000\n",
    "    per_km_null_grand_avg = (tot_crossings_null / tot_length_null) * 1000\n",
    "    barrier_score = (per_km_null_grand_avg-per_km_real_grand_avg)/(per_km_real_grand_avg)\n",
    "    res_per_km.append([cbsacode, city_name, street_type, random_seed, \n",
    "                       rng-binning_d, barrier_score, per_km_real_grand_avg, \n",
    "                       per_km_null_grand_avg, tot_length_real, tot_length_null, \n",
    "                       tot_crossings_real, tot_crossings_null])\n",
    "df_barrier_score = pd.DataFrame(res_per_km, columns=['cbsacode', 'city_name', 'street_type', 'random_seed', \n",
    "                                  'bin', 'barrier_score', 'crossings_per_km_real', \n",
    "                                  'crossings_per_km_null', 'tot_length_real', 'tot_length_null', \n",
    "                                  'tot_crossings_real', 'tot_crossings_null'])\n",
    "\n",
    "# calculate the city-wide barrier score\n",
    "barrier_score_city = df_barrier_score['barrier_score'].dropna().mean()\n",
    "print(f'Barrier score for {city_name} = {barrier_score_city}')\n",
    "df_barrier_score"
   ]
  },
  {
   "cell_type": "code",
   "execution_count": null,
   "metadata": {},
   "outputs": [],
   "source": []
  },
  {
   "cell_type": "code",
   "execution_count": null,
   "metadata": {},
   "outputs": [],
   "source": []
  },
  {
   "cell_type": "code",
   "execution_count": null,
   "metadata": {},
   "outputs": [],
   "source": []
  }
 ],
 "metadata": {
  "kernelspec": {
   "display_name": "Python 3 (ipykernel)",
   "language": "python",
   "name": "python3"
  },
  "language_info": {
   "codemirror_mode": {
    "name": "ipython",
    "version": 3
   },
   "file_extension": ".py",
   "mimetype": "text/x-python",
   "name": "python",
   "nbconvert_exporter": "python",
   "pygments_lexer": "ipython3",
   "version": "3.12.3"
  }
 },
 "nbformat": 4,
 "nbformat_minor": 4
}
