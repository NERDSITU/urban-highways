{
 "cells": [
  {
   "cell_type": "markdown",
   "metadata": {},
   "source": [
    "# Polygonization by rivers & railways - manual exploration (tags)\n",
    "\n",
    "In this notebook, for a given city, we\n",
    "* load the raw OSM data on rivers/railways for this polygon\n",
    "* visualize to explore\n",
    "* verify that we can drop Points and Polygons\n",
    "* annotate all tag values to keep in `barriertags.yml`\n"
   ]
  },
  {
   "cell_type": "code",
   "execution_count": null,
   "metadata": {},
   "outputs": [],
   "source": [
    "# import warnings\n",
    "# warnings.filterwarnings(\"ignore\")\n",
    "import os\n",
    "# import sys\n",
    "# import argparse\n",
    "# import random\n",
    "# from time import time\n",
    "# import numpy as np\n",
    "import pandas as pd\n",
    "# import pickle\n",
    "import matplotlib.pyplot as plt\n",
    "import geopandas as gpd\n",
    "# from shapely.geometry import LineString, Point, MultiPoint, MultiLineString, Polygon\n",
    "# from tqdm import tqdm\n",
    "# from geopy.distance import distance, geodesic, great_circle\n",
    "import osmnx as ox\n",
    "# import networkx as nx\n",
    "# import scipy.stats\n",
    "# from scipy.stats import ks_2samp\n",
    "# import sklearn\n",
    "# import igraph\n",
    "# from igraph import Graph\n",
    "\n",
    "# from random import choice\n",
    "# from bisect import bisect_left\n",
    "# import copy\n",
    "\n",
    "# from functools import partial\n",
    "# import pyproj\n",
    "# from pyproj import Geod\n",
    "# from pyproj.crs import ProjectedCRS\n",
    "# from pyproj.crs.coordinate_operation import AzimuthalEquidistantConversion\n",
    "# from shapely.ops import transform\n",
    "\n",
    "import yaml\n",
    "# from utils import *\n",
    "import shapely\n",
    "# ox.__version__\n",
    "import momepy\n",
    "import folium"
   ]
  },
  {
   "cell_type": "code",
   "execution_count": null,
   "metadata": {},
   "outputs": [],
   "source": [
    "# read in and format CBSA table to loop through\n",
    "cbsacode_file = '../data/cbsacode.csv'\n",
    "df_cbsacodes = pd.read_csv(cbsacode_file)\n",
    "df_cbsacodes = df_cbsacodes[[\"cbsacode\", \"name\", \"full_name\", \"geometry\", \"west\", \"south\", \"east\", \"north\"]]\n",
    "# convert text to shapely Polygon\n",
    "df_cbsacodes[\"geometry\"] = df_cbsacodes.geometry.apply(lambda x: shapely.from_wkt(x))\n",
    "# convert to geodataframe\n",
    "gdf_cbsacodes = gpd.GeoDataFrame(df_cbsacodes, crs = \"EPSG:4326\")\n",
    "gdf_cbsacodes"
   ]
  },
  {
   "cell_type": "markdown",
   "metadata": {},
   "source": [
    "# Choose city and barrier type to explore"
   ]
  },
  {
   "cell_type": "code",
   "execution_count": null,
   "metadata": {},
   "outputs": [],
   "source": [
    "city_name = \"Washington\"\n",
    "barrier_type = \"waterway\""
   ]
  },
  {
   "cell_type": "markdown",
   "metadata": {},
   "source": [
    "**load data**"
   ]
  },
  {
   "cell_type": "code",
   "execution_count": null,
   "metadata": {},
   "outputs": [],
   "source": [
    "cbsacode = gdf_cbsacodes[gdf_cbsacodes[\"name\"]==city_name].cbsacode.values[0]\n",
    "folder_osm = \"../data/natural_barriers/raw/\"\n",
    "barrier_path = folder_osm + f'{cbsacode}_{barrier_type}.gpkg'\n",
    "gdf = gpd.read_file(barrier_path)\n",
    "assert all([t in [\"Point\", \"LineString\", \"Polygon\"] for t in gdf.geom_type.unique()]), \"Unexpected geom type, double check\""
   ]
  },
  {
   "cell_type": "markdown",
   "metadata": {},
   "source": [
    "**Can we drop Points and Polygons?** (if yes - no need to do anything further)"
   ]
  },
  {
   "cell_type": "code",
   "execution_count": null,
   "metadata": {},
   "outputs": [],
   "source": [
    "m = gdf[gdf.geom_type==\"LineString\"].explore(tiles = \"CartoDB.Positron\", name = \"LineString\")\n",
    "gdf[gdf.geom_type==\"Point\"].explore(m=m, tiles = \"CartoDB.Positron\", name = \"Point\", color = \"red\")\n",
    "gdf[gdf.geom_type==\"Polygon\"].explore(m=m, tiles = \"CartoDB.Positron\", name = \"Polygon\", color = \"green\")\n",
    "folium.LayerControl().add_to(m)\n",
    "m"
   ]
  },
  {
   "cell_type": "markdown",
   "metadata": {},
   "source": [
    "**Which tags should we keep?**"
   ]
  },
  {
   "cell_type": "code",
   "execution_count": null,
   "metadata": {},
   "outputs": [],
   "source": [
    "gdf = gdf[gdf.geom_type==\"LineString\"]\n",
    "gdf[barrier_type].unique()"
   ]
  },
  {
   "cell_type": "code",
   "execution_count": null,
   "metadata": {},
   "outputs": [],
   "source": [
    "# m = gdf[(gdf.geom_type==\"LineString\")&gdf[barrier_type].isin([\"rail\", \"abandoned\"])].explore(tiles = \"CartoDB.Positron\", column = barrier_type, cmap = \"Set2\", opacity=.9, style_kwds={\"weight\":5})\n",
    "# m = gdf[gdf.waterway.isin([\"river\", \"dam\"])].explore(tiles = \"CartoDB.Positron\", column = barrier_type, cmap = \"Set2\", opacity=.9, style_kwds={\"weight\":5})\n",
    "# m = gdf[gdf[barrier_type].isin([\"rail\", \"abandoned\", \"disused\"])].explore(tiles = \"CartoDB.Positron\", column = barrier_type, cmap = \"Set2\", opacity=.9, style_kwds={\"weight\":5})\n",
    "m = gdf[~gdf[barrier_type].isin([\"stream\"])].explore(max_zoom=52, tiles = \"CartoDB.Positron\", column = barrier_type, cmap = \"Set2\", opacity=.9, style_kwds={\"weight\":5})\n",
    "folium.LayerControl().add_to(m)\n",
    "m"
   ]
  },
  {
   "cell_type": "code",
   "execution_count": null,
   "metadata": {},
   "outputs": [],
   "source": []
  },
  {
   "cell_type": "markdown",
   "metadata": {},
   "source": [
    "# Notes\n",
    "\n",
    "* miami, waterways: potentially hard cause many very small polygons (canal system)\n",
    "* orlando, waterways: potentially too detailed"
   ]
  }
 ],
 "metadata": {
  "kernelspec": {
   "display_name": "highenv",
   "language": "python",
   "name": "python3"
  },
  "language_info": {
   "codemirror_mode": {
    "name": "ipython",
    "version": 3
   },
   "file_extension": ".py",
   "mimetype": "text/x-python",
   "name": "python",
   "nbconvert_exporter": "python",
   "pygments_lexer": "ipython3",
   "version": "3.12.3"
  }
 },
 "nbformat": 4,
 "nbformat_minor": 2
}
